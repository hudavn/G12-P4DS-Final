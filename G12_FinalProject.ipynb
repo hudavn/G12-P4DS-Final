{
 "cells": [
  {
   "cell_type": "markdown",
   "id": "68fd5999",
   "metadata": {},
   "source": [
    "# Final Project - Lập trình cho Khoa học dữ liệu\n",
    "\n",
    "## Thông tin nhóm\n",
    "\n",
    "Nhóm: 12\n",
    "\n",
    "Số lượng thành viên: 2\n",
    "\n",
    "Thành viên 1:\n",
    "- Họ và tên:\n",
    "- MSSV:\n",
    "- Email:\n",
    "\n",
    "Thành viên 2:\n",
    "- Họ và tên:\n",
    "- MSSV:\n",
    "- Email:\n",
    "\n",
    "## Thông tin đồ án"
   ]
  },
  {
   "cell_type": "markdown",
   "id": "f4c0bd2a",
   "metadata": {},
   "source": [
    "## Các thư viện hỗ trợ"
   ]
  },
  {
   "cell_type": "code",
   "execution_count": 1,
   "id": "158d6b6d",
   "metadata": {},
   "outputs": [],
   "source": [
    "import pandas as pd"
   ]
  },
  {
   "cell_type": "markdown",
   "id": "d8f6af2c",
   "metadata": {},
   "source": [
    "## Thu thập dữ liệu\n",
    "> What subject is your data about? What is the source of your data?\n",
    "\n",
    "Đây là tập dữ liệu xuyên quốc gia chứa tất cả các giao dịch diễn ra từ ngày 01/12/2010 đến 09/12/2011 cho một cửa hàng bán lẻ trực tuyến (không có cửa hàng trực tiếp) và có trụ sở tại Vương quốc Anh. Công ty chủ yếu bán quà tặng các dịp lễ. Đa số khách hàng của công ty là những thương lái.\n",
    "\n",
    "> Do authors of this data allow you to use like this?\n",
    "\n",
    "Không có thông tin về License trên Kaggle, tuy nhiên tập dữ liệu được hiển thị public trên Kaggle và được lấy từ một nguồn online miễn phí khác ([UCI Machine Learning Repository](https://archive.ics.uci.edu/ml/index.php))\n",
    "\n",
    "> How did authors collect data?\n",
    "\n",
    "Không có thông tin về việc tác giả thu thập như thế nào, tuy nhiên người upload tập dữ liệu này trên Kaggle, lấy trực tiếp từ [UCI Machine Learning Repository](https://archive.ics.uci.edu/ml/index.php) và sở hữu thực tế được ghi trên thư viện này là \"*Dr Daqing Chen, Director: Public Analytics group. chend '@' lsbu.ac.uk, School of Engineering, London South Bank University, London SE1 0AA, UK*\".\n",
    "\n"
   ]
  },
  {
   "cell_type": "code",
   "execution_count": 2,
   "id": "bcda5d0a",
   "metadata": {},
   "outputs": [
    {
     "data": {
      "text/html": [
       "<div>\n",
       "<style scoped>\n",
       "    .dataframe tbody tr th:only-of-type {\n",
       "        vertical-align: middle;\n",
       "    }\n",
       "\n",
       "    .dataframe tbody tr th {\n",
       "        vertical-align: top;\n",
       "    }\n",
       "\n",
       "    .dataframe thead th {\n",
       "        text-align: right;\n",
       "    }\n",
       "</style>\n",
       "<table border=\"1\" class=\"dataframe\">\n",
       "  <thead>\n",
       "    <tr style=\"text-align: right;\">\n",
       "      <th></th>\n",
       "      <th>InvoiceNo</th>\n",
       "      <th>StockCode</th>\n",
       "      <th>Description</th>\n",
       "      <th>Quantity</th>\n",
       "      <th>InvoiceDate</th>\n",
       "      <th>UnitPrice</th>\n",
       "      <th>CustomerID</th>\n",
       "      <th>Country</th>\n",
       "    </tr>\n",
       "  </thead>\n",
       "  <tbody>\n",
       "    <tr>\n",
       "      <th>0</th>\n",
       "      <td>536365</td>\n",
       "      <td>85123A</td>\n",
       "      <td>WHITE HANGING HEART T-LIGHT HOLDER</td>\n",
       "      <td>6</td>\n",
       "      <td>12/1/2010 8:26</td>\n",
       "      <td>2.55</td>\n",
       "      <td>17850.0</td>\n",
       "      <td>United Kingdom</td>\n",
       "    </tr>\n",
       "    <tr>\n",
       "      <th>1</th>\n",
       "      <td>536365</td>\n",
       "      <td>71053</td>\n",
       "      <td>WHITE METAL LANTERN</td>\n",
       "      <td>6</td>\n",
       "      <td>12/1/2010 8:26</td>\n",
       "      <td>3.39</td>\n",
       "      <td>17850.0</td>\n",
       "      <td>United Kingdom</td>\n",
       "    </tr>\n",
       "    <tr>\n",
       "      <th>2</th>\n",
       "      <td>536365</td>\n",
       "      <td>84406B</td>\n",
       "      <td>CREAM CUPID HEARTS COAT HANGER</td>\n",
       "      <td>8</td>\n",
       "      <td>12/1/2010 8:26</td>\n",
       "      <td>2.75</td>\n",
       "      <td>17850.0</td>\n",
       "      <td>United Kingdom</td>\n",
       "    </tr>\n",
       "    <tr>\n",
       "      <th>3</th>\n",
       "      <td>536365</td>\n",
       "      <td>84029G</td>\n",
       "      <td>KNITTED UNION FLAG HOT WATER BOTTLE</td>\n",
       "      <td>6</td>\n",
       "      <td>12/1/2010 8:26</td>\n",
       "      <td>3.39</td>\n",
       "      <td>17850.0</td>\n",
       "      <td>United Kingdom</td>\n",
       "    </tr>\n",
       "    <tr>\n",
       "      <th>4</th>\n",
       "      <td>536365</td>\n",
       "      <td>84029E</td>\n",
       "      <td>RED WOOLLY HOTTIE WHITE HEART.</td>\n",
       "      <td>6</td>\n",
       "      <td>12/1/2010 8:26</td>\n",
       "      <td>3.39</td>\n",
       "      <td>17850.0</td>\n",
       "      <td>United Kingdom</td>\n",
       "    </tr>\n",
       "    <tr>\n",
       "      <th>...</th>\n",
       "      <td>...</td>\n",
       "      <td>...</td>\n",
       "      <td>...</td>\n",
       "      <td>...</td>\n",
       "      <td>...</td>\n",
       "      <td>...</td>\n",
       "      <td>...</td>\n",
       "      <td>...</td>\n",
       "    </tr>\n",
       "    <tr>\n",
       "      <th>541904</th>\n",
       "      <td>581587</td>\n",
       "      <td>22613</td>\n",
       "      <td>PACK OF 20 SPACEBOY NAPKINS</td>\n",
       "      <td>12</td>\n",
       "      <td>12/9/2011 12:50</td>\n",
       "      <td>0.85</td>\n",
       "      <td>12680.0</td>\n",
       "      <td>France</td>\n",
       "    </tr>\n",
       "    <tr>\n",
       "      <th>541905</th>\n",
       "      <td>581587</td>\n",
       "      <td>22899</td>\n",
       "      <td>CHILDREN'S APRON DOLLY GIRL</td>\n",
       "      <td>6</td>\n",
       "      <td>12/9/2011 12:50</td>\n",
       "      <td>2.10</td>\n",
       "      <td>12680.0</td>\n",
       "      <td>France</td>\n",
       "    </tr>\n",
       "    <tr>\n",
       "      <th>541906</th>\n",
       "      <td>581587</td>\n",
       "      <td>23254</td>\n",
       "      <td>CHILDRENS CUTLERY DOLLY GIRL</td>\n",
       "      <td>4</td>\n",
       "      <td>12/9/2011 12:50</td>\n",
       "      <td>4.15</td>\n",
       "      <td>12680.0</td>\n",
       "      <td>France</td>\n",
       "    </tr>\n",
       "    <tr>\n",
       "      <th>541907</th>\n",
       "      <td>581587</td>\n",
       "      <td>23255</td>\n",
       "      <td>CHILDRENS CUTLERY CIRCUS PARADE</td>\n",
       "      <td>4</td>\n",
       "      <td>12/9/2011 12:50</td>\n",
       "      <td>4.15</td>\n",
       "      <td>12680.0</td>\n",
       "      <td>France</td>\n",
       "    </tr>\n",
       "    <tr>\n",
       "      <th>541908</th>\n",
       "      <td>581587</td>\n",
       "      <td>22138</td>\n",
       "      <td>BAKING SET 9 PIECE RETROSPOT</td>\n",
       "      <td>3</td>\n",
       "      <td>12/9/2011 12:50</td>\n",
       "      <td>4.95</td>\n",
       "      <td>12680.0</td>\n",
       "      <td>France</td>\n",
       "    </tr>\n",
       "  </tbody>\n",
       "</table>\n",
       "<p>541909 rows × 8 columns</p>\n",
       "</div>"
      ],
      "text/plain": [
       "       InvoiceNo StockCode                          Description  Quantity  \\\n",
       "0         536365    85123A   WHITE HANGING HEART T-LIGHT HOLDER         6   \n",
       "1         536365     71053                  WHITE METAL LANTERN         6   \n",
       "2         536365    84406B       CREAM CUPID HEARTS COAT HANGER         8   \n",
       "3         536365    84029G  KNITTED UNION FLAG HOT WATER BOTTLE         6   \n",
       "4         536365    84029E       RED WOOLLY HOTTIE WHITE HEART.         6   \n",
       "...          ...       ...                                  ...       ...   \n",
       "541904    581587     22613          PACK OF 20 SPACEBOY NAPKINS        12   \n",
       "541905    581587     22899         CHILDREN'S APRON DOLLY GIRL          6   \n",
       "541906    581587     23254        CHILDRENS CUTLERY DOLLY GIRL          4   \n",
       "541907    581587     23255      CHILDRENS CUTLERY CIRCUS PARADE         4   \n",
       "541908    581587     22138        BAKING SET 9 PIECE RETROSPOT          3   \n",
       "\n",
       "            InvoiceDate  UnitPrice  CustomerID         Country  \n",
       "0        12/1/2010 8:26       2.55     17850.0  United Kingdom  \n",
       "1        12/1/2010 8:26       3.39     17850.0  United Kingdom  \n",
       "2        12/1/2010 8:26       2.75     17850.0  United Kingdom  \n",
       "3        12/1/2010 8:26       3.39     17850.0  United Kingdom  \n",
       "4        12/1/2010 8:26       3.39     17850.0  United Kingdom  \n",
       "...                 ...        ...         ...             ...  \n",
       "541904  12/9/2011 12:50       0.85     12680.0          France  \n",
       "541905  12/9/2011 12:50       2.10     12680.0          France  \n",
       "541906  12/9/2011 12:50       4.15     12680.0          France  \n",
       "541907  12/9/2011 12:50       4.15     12680.0          France  \n",
       "541908  12/9/2011 12:50       4.95     12680.0          France  \n",
       "\n",
       "[541909 rows x 8 columns]"
      ]
     },
     "execution_count": 2,
     "metadata": {},
     "output_type": "execute_result"
    }
   ],
   "source": [
    "path = \"./data.csv\"\n",
    "content = pd.read_csv(path, encoding= 'unicode_escape')\n",
    "content"
   ]
  },
  {
   "cell_type": "markdown",
   "id": "302c1989",
   "metadata": {},
   "source": [
    "## Khám phá dữ liệu"
   ]
  },
  {
   "cell_type": "code",
   "execution_count": 3,
   "id": "6d42eb63",
   "metadata": {},
   "outputs": [],
   "source": [
    "# Trình bày mỗi câu hỏi bằng một cell markdown, định dạng h3 (### ở đầu).\n",
    "# Đặt câu hỏi trước khi thực hiện trả lời câu hỏi (bằng code hoặc text)."
   ]
  },
  {
   "cell_type": "markdown",
   "id": "39919f63",
   "metadata": {},
   "source": [
    "### Dữ liệu có bao nhiêu dòng và bao nhiêu cột?"
   ]
  },
  {
   "cell_type": "code",
   "execution_count": 4,
   "id": "6152e292",
   "metadata": {},
   "outputs": [
    {
     "name": "stdout",
     "output_type": "stream",
     "text": [
      "Dữ liệu trên có 541909 dòng và 8 cột\n"
     ]
    }
   ],
   "source": [
    "rows = content.shape[0]\n",
    "cols = content.shape[1]\n",
    "print(f\"Dữ liệu trên có {rows} dòng và {cols} cột\")"
   ]
  },
  {
   "cell_type": "markdown",
   "id": "55363d68",
   "metadata": {},
   "source": [
    "### Mỗi dòng có ý nghĩa gì? "
   ]
  },
  {
   "cell_type": "markdown",
   "id": "85123308",
   "metadata": {},
   "source": [
    "Mỗi dòng là thông tin giao dịch một loại hàng hoá của một khách hàng."
   ]
  },
  {
   "cell_type": "markdown",
   "id": "bb120f24",
   "metadata": {},
   "source": [
    "### Trong dữ liệu trên  ( chưa qua xử lý), có dòng bị lặp không?"
   ]
  },
  {
   "cell_type": "code",
   "execution_count": 5,
   "id": "e734d709",
   "metadata": {},
   "outputs": [
    {
     "name": "stdout",
     "output_type": "stream",
     "text": [
      "Dữ liệu trên có 5268 dòng bị lặp\n"
     ]
    }
   ],
   "source": [
    "print(f\"Dữ liệu trên có {content.duplicated().sum()} dòng bị lặp\")"
   ]
  },
  {
   "cell_type": "markdown",
   "id": "59420a79",
   "metadata": {},
   "source": [
    "### Mỗi cột có ý nghĩa gì?"
   ]
  },
  {
   "cell_type": "markdown",
   "id": "79e72d08",
   "metadata": {},
   "source": [
    "- <b>InvoiceNo</b>: Mã hoá đơn, , nếu mã này có kí tự đầu là \"C\" thì giao dịch đó đã bị huỷ.\n",
    "- <b>StockCode</b>: Mã sản phẩm\n",
    "- <b>Description</b>: Tên sản phẩm\n",
    "- <b>Quantity</b>: Số lượng mỗi sản phẩm trên mỗi lần giao dịch\n",
    "- <b>InvoiceDate</b>: Ngày và giờ giao dịch\n",
    "- <b>UnitPrice</b>: Đơn giá. Đơn giá này được tính theo đơn vị Bảng Anh.\n",
    "- <b>CustomerID</b>: Mã khách hàng\n",
    "- <b>Country</b>: Tên quốc gia của khách hàng"
   ]
  },
  {
   "cell_type": "markdown",
   "id": "b83b505a",
   "metadata": {},
   "source": [
    "### Mỗi cột đang có kiểu dữ liệu gì? Có cột nào có kiểu dữ liệu chưa phù hợp để xử lý ở những bước tiếp theo không?"
   ]
  },
  {
   "cell_type": "code",
   "execution_count": 6,
   "id": "70e1dcde",
   "metadata": {},
   "outputs": [
    {
     "data": {
      "text/html": [
       "<div>\n",
       "<style scoped>\n",
       "    .dataframe tbody tr th:only-of-type {\n",
       "        vertical-align: middle;\n",
       "    }\n",
       "\n",
       "    .dataframe tbody tr th {\n",
       "        vertical-align: top;\n",
       "    }\n",
       "\n",
       "    .dataframe thead th {\n",
       "        text-align: right;\n",
       "    }\n",
       "</style>\n",
       "<table border=\"1\" class=\"dataframe\">\n",
       "  <thead>\n",
       "    <tr style=\"text-align: right;\">\n",
       "      <th></th>\n",
       "      <th>InvoiceNo</th>\n",
       "      <th>StockCode</th>\n",
       "      <th>Description</th>\n",
       "      <th>Quantity</th>\n",
       "      <th>InvoiceDate</th>\n",
       "      <th>UnitPrice</th>\n",
       "      <th>CustomerID</th>\n",
       "      <th>Country</th>\n",
       "    </tr>\n",
       "  </thead>\n",
       "  <tbody>\n",
       "    <tr>\n",
       "      <th>type</th>\n",
       "      <td>object</td>\n",
       "      <td>object</td>\n",
       "      <td>object</td>\n",
       "      <td>int64</td>\n",
       "      <td>object</td>\n",
       "      <td>float64</td>\n",
       "      <td>float64</td>\n",
       "      <td>object</td>\n",
       "    </tr>\n",
       "  </tbody>\n",
       "</table>\n",
       "</div>"
      ],
      "text/plain": [
       "     InvoiceNo StockCode Description Quantity InvoiceDate UnitPrice  \\\n",
       "type    object    object      object    int64      object   float64   \n",
       "\n",
       "     CustomerID Country  \n",
       "type    float64  object  "
      ]
     },
     "execution_count": 6,
     "metadata": {},
     "output_type": "execute_result"
    }
   ],
   "source": [
    "pd.DataFrame(content.dtypes).T.rename(index={0:'type'})"
   ]
  },
  {
   "cell_type": "markdown",
   "id": "1aefcef5",
   "metadata": {},
   "source": [
    "- Các cột <b>InvoiceNo</b>, <b>StockCode</b>, <b>Description</b>, <b>Country</b>: Có kiểu dữ liệu ở dạng chuỗi. Kiểu dữ liệu này thích hợp cho các loại dữ liệu trên nên đây là kiểu dữ liệu đúng.\n",
    "- Các cột <b>Quantity</b>, <b>CustomerID</b>, <b>UnitPrice</b>: Có kiểu dữ liệu dạng số. Thể hiện đúng tên của từng cột.\n",
    "- Cột <b>InvoiceDate</b>: Có kiểu dữ liệu dạng chuỗi. Để thuận tiện hơn khi xử lý thời gian, cần chuyển về dạng datetime. Em sẽ chuyển ngay dưới đây."
   ]
  },
  {
   "cell_type": "code",
   "execution_count": 7,
   "id": "a1d53102",
   "metadata": {},
   "outputs": [],
   "source": [
    "content['InvoiceDate'] = pd.to_datetime(content['InvoiceDate'])\n",
    "categorical_cols = ['InvoiceNo', 'StockCode', 'Description', 'Country']\n",
    "numeric_cols = ['Quantity', 'CustomerID', 'UnitPrice']"
   ]
  },
  {
   "cell_type": "markdown",
   "id": "0d7e6e1f",
   "metadata": {},
   "source": [
    "### Với mỗi cột dạng số thực và dạng datetime, các giá trị được phân bố như thế nào?"
   ]
  },
  {
   "cell_type": "markdown",
   "id": "762ca5be",
   "metadata": {},
   "source": [
    "Ở đây có 3 cột số thực là <b>Quantity</b>, <b>CustomerID</b> và <b>UnitPrice</b>. Em sẽ khám phá xem tỷ lệ % giá trị bị thiếu của các cột trên."
   ]
  },
  {
   "cell_type": "code",
   "execution_count": 8,
   "id": "effbb647",
   "metadata": {},
   "outputs": [
    {
     "data": {
      "text/html": [
       "<div>\n",
       "<style scoped>\n",
       "    .dataframe tbody tr th:only-of-type {\n",
       "        vertical-align: middle;\n",
       "    }\n",
       "\n",
       "    .dataframe tbody tr th {\n",
       "        vertical-align: top;\n",
       "    }\n",
       "\n",
       "    .dataframe thead th {\n",
       "        text-align: right;\n",
       "    }\n",
       "</style>\n",
       "<table border=\"1\" class=\"dataframe\">\n",
       "  <thead>\n",
       "    <tr style=\"text-align: right;\">\n",
       "      <th></th>\n",
       "      <th>Quantity</th>\n",
       "      <th>CustomerID</th>\n",
       "      <th>UnitPrice</th>\n",
       "    </tr>\n",
       "  </thead>\n",
       "  <tbody>\n",
       "    <tr>\n",
       "      <th>Missing (%)</th>\n",
       "      <td>0.0</td>\n",
       "      <td>24.926694</td>\n",
       "      <td>0.0</td>\n",
       "    </tr>\n",
       "  </tbody>\n",
       "</table>\n",
       "</div>"
      ],
      "text/plain": [
       "             Quantity  CustomerID  UnitPrice\n",
       "Missing (%)       0.0   24.926694        0.0"
      ]
     },
     "execution_count": 8,
     "metadata": {},
     "output_type": "execute_result"
    }
   ],
   "source": [
    "null_numeric = pd.DataFrame(pd.DataFrame(content[numeric_cols].isnull().sum()/content.shape[0]*100).T.\n",
    "                         rename(index={0:'Missing (%)'}))\n",
    "null_numeric"
   ]
  },
  {
   "cell_type": "markdown",
   "id": "ef77c86f",
   "metadata": {},
   "source": [
    "Nhìn vào bảng trên, nhận thấy cột <b>Quantity</b> và cột <b>UnitPrice</b> có 0% tỷ lệ thiếu. Nhưng cột <b>CustomerID</b> có đến 24.9% tỷ lệ thiếu. Đây là cột CustomerID, mỗi khách hàng có một CustomerID duy nhất, nhóm em nhận thấy không thể dùng những kỹ thuật điền giá trị thiếu để điền vào trong trường hợp này được. Do đó, em sẽ xoá những dòng có CustomerID bị thiếu."
   ]
  },
  {
   "cell_type": "code",
   "execution_count": 9,
   "id": "cd2950ca",
   "metadata": {},
   "outputs": [
    {
     "data": {
      "text/html": [
       "<div>\n",
       "<style scoped>\n",
       "    .dataframe tbody tr th:only-of-type {\n",
       "        vertical-align: middle;\n",
       "    }\n",
       "\n",
       "    .dataframe tbody tr th {\n",
       "        vertical-align: top;\n",
       "    }\n",
       "\n",
       "    .dataframe thead th {\n",
       "        text-align: right;\n",
       "    }\n",
       "</style>\n",
       "<table border=\"1\" class=\"dataframe\">\n",
       "  <thead>\n",
       "    <tr style=\"text-align: right;\">\n",
       "      <th></th>\n",
       "      <th>Quantity</th>\n",
       "      <th>UnitPrice</th>\n",
       "      <th>InvoiceDate</th>\n",
       "    </tr>\n",
       "  </thead>\n",
       "  <tbody>\n",
       "    <tr>\n",
       "      <th>min</th>\n",
       "      <td>-80995</td>\n",
       "      <td>-11062.06</td>\n",
       "      <td>2010-12-01 08:26:00</td>\n",
       "    </tr>\n",
       "    <tr>\n",
       "      <th>max</th>\n",
       "      <td>80995</td>\n",
       "      <td>38970.00</td>\n",
       "      <td>2011-12-09 12:50:00</td>\n",
       "    </tr>\n",
       "  </tbody>\n",
       "</table>\n",
       "</div>"
      ],
      "text/plain": [
       "     Quantity  UnitPrice         InvoiceDate\n",
       "min    -80995  -11062.06 2010-12-01 08:26:00\n",
       "max     80995   38970.00 2011-12-09 12:50:00"
      ]
     },
     "execution_count": 9,
     "metadata": {},
     "output_type": "execute_result"
    }
   ],
   "source": [
    "content['InvoiceDate'] = pd.to_datetime(content['InvoiceDate'])\n",
    "min_Quantity = min(content['Quantity'])\n",
    "max_Quantity = max(content['Quantity'])\n",
    "min_UnitPrice = min(content['UnitPrice'])\n",
    "max_UnitPrice = max(content['UnitPrice'])\n",
    "min_InvoiceDate = min(content['InvoiceDate']) \n",
    "max_InvoiceDate = max(content['InvoiceDate'])\n",
    "data_min_max = {\n",
    "    'Quantity': [min_Quantity, max_Quantity],\n",
    "    'UnitPrice': [min_UnitPrice, max_UnitPrice],\n",
    "    'InvoiceDate': [min_InvoiceDate, max_InvoiceDate]\n",
    "}\n",
    "min_max_numeric = pd.DataFrame(data_min_max).rename(index={0:'min', 1:'max'})\n",
    "min_max_numeric"
   ]
  },
  {
   "cell_type": "markdown",
   "id": "038e9dbf",
   "metadata": {},
   "source": [
    "min và max của cột <b>InvoiceDate</b> không có gì bất thường. Nhưng min và max của cột <b>Quantity</b> và cột <b>UnitPrice</b> chứa số âm. Số âm này thể hiện số lượng trả lại và giá trị đơn trả lại. Nên đây cũng không có gì bất thường."
   ]
  },
  {
   "cell_type": "markdown",
   "id": "e7e84a16",
   "metadata": {},
   "source": [
    "### Với mỗi cột có kiểu dữ liệu dạng phân loại, các giá trị được phân bố như thế nào?"
   ]
  },
  {
   "cell_type": "code",
   "execution_count": 10,
   "id": "557957be",
   "metadata": {},
   "outputs": [],
   "source": [
    "def dif_values(arr):\n",
    "    \"\"\"\n",
    "    Đầu vào:\n",
    "      arr: \n",
    "        Dạng: list \n",
    "        Miêu tả: Dữ liệu của một cột\n",
    "    \n",
    "    Đầu ra:\n",
    "      set_dif_val:\n",
    "        Miêu tả: Trả về một tập chứa các giá trị khác nhau có trong list\n",
    "      num_of_dif: \n",
    "        Miêu tả: Trả về số lượng các giá trị khác nhau có trong list\n",
    "      \"\"\"\n",
    "    set_dif_val = set(arr)\n",
    "    set_dif_val = [x for x in set_dif_val if x==x]\n",
    "    num_of_dif = len(set_dif_val)\n",
    "    \n",
    "    return set_dif_val, num_of_dif"
   ]
  },
  {
   "cell_type": "code",
   "execution_count": 16,
   "id": "ea215c6c",
   "metadata": {},
   "outputs": [
    {
     "name": "stdout",
     "output_type": "stream",
     "text": [
      "Categorical     Miss(%)      Num_of_diff      Some_val\n",
      "InvoiceNo       0.000        25900        ['C574443', '571628', '547967', 'C566758...\n",
      "StockCode       0.000        4070         ['22813', '22100', '23061', '62074B', '2...\n",
      "Description     0.268        4223         ['CHEST OF DRAWERS GINGHAM HEART ', 'EMP...\n",
      "Country         0.000        38           ['Hong Kong', 'Denmark', 'Switzerland', ...\n"
     ]
    }
   ],
   "source": [
    "categorical_info = {}\n",
    "num_of_missing_categorical = pd.Series(content[categorical_cols].isnull().sum())\n",
    "persent_missing_categorical = pd.Series(content[categorical_cols].isnull().sum()/content.shape[0]*100)\n",
    "for col in categorical_cols:\n",
    "    categorical_info[col] = dif_values(content[col])\n",
    "print(f\"{'Categorical':15} {'Miss(%)':12} {'Num_of_diff':16} {'Some_val'}\")\n",
    "\n",
    "for col in categorical_cols:\n",
    "    categorical_info['StockCode'][0][:3]\n",
    "    print(f'{col:15} {persent_missing_categorical[col]:<12.3f} {categorical_info[col][1]:<12} {categorical_info[col][0].__repr__()[:40]+\"...\":<}')"
   ]
  },
  {
   "cell_type": "markdown",
   "id": "807c3500",
   "metadata": {},
   "source": [
    "Theo bảng trên, chỉ có cột Description có dữ liệu bị thiếu, và thiếu 0.268%. Mặc dù có 4070 mã sản phẩm nhưng lại có tới 4223 tên cho sản phẩm. Số lượng các giá trị khác nhau trong cột dạng categorical đều là số dương, cột some_val đều khác nhau. Dữ liệu thu thập được không có gì bất thường. Để có cái nhìn rõ hơn về các giá trị còn thiếu, nhóm em sẽ in ra các dòng còn thiếu."
   ]
  },
  {
   "cell_type": "code",
   "execution_count": 48,
   "id": "52fc4182",
   "metadata": {},
   "outputs": [
    {
     "data": {
      "text/html": [
       "<div>\n",
       "<style scoped>\n",
       "    .dataframe tbody tr th:only-of-type {\n",
       "        vertical-align: middle;\n",
       "    }\n",
       "\n",
       "    .dataframe tbody tr th {\n",
       "        vertical-align: top;\n",
       "    }\n",
       "\n",
       "    .dataframe thead th {\n",
       "        text-align: right;\n",
       "    }\n",
       "</style>\n",
       "<table border=\"1\" class=\"dataframe\">\n",
       "  <thead>\n",
       "    <tr style=\"text-align: right;\">\n",
       "      <th></th>\n",
       "      <th>InvoiceNo</th>\n",
       "      <th>StockCode</th>\n",
       "      <th>Description</th>\n",
       "      <th>Quantity</th>\n",
       "      <th>InvoiceDate</th>\n",
       "      <th>UnitPrice</th>\n",
       "      <th>CustomerID</th>\n",
       "      <th>Country</th>\n",
       "    </tr>\n",
       "  </thead>\n",
       "  <tbody>\n",
       "    <tr>\n",
       "      <th>622</th>\n",
       "      <td>536414</td>\n",
       "      <td>22139</td>\n",
       "      <td>NaN</td>\n",
       "      <td>56</td>\n",
       "      <td>2010-12-01 11:52:00</td>\n",
       "      <td>0.0</td>\n",
       "      <td>NaN</td>\n",
       "      <td>United Kingdom</td>\n",
       "    </tr>\n",
       "    <tr>\n",
       "      <th>1970</th>\n",
       "      <td>536545</td>\n",
       "      <td>21134</td>\n",
       "      <td>NaN</td>\n",
       "      <td>1</td>\n",
       "      <td>2010-12-01 14:32:00</td>\n",
       "      <td>0.0</td>\n",
       "      <td>NaN</td>\n",
       "      <td>United Kingdom</td>\n",
       "    </tr>\n",
       "    <tr>\n",
       "      <th>1971</th>\n",
       "      <td>536546</td>\n",
       "      <td>22145</td>\n",
       "      <td>NaN</td>\n",
       "      <td>1</td>\n",
       "      <td>2010-12-01 14:33:00</td>\n",
       "      <td>0.0</td>\n",
       "      <td>NaN</td>\n",
       "      <td>United Kingdom</td>\n",
       "    </tr>\n",
       "    <tr>\n",
       "      <th>1972</th>\n",
       "      <td>536547</td>\n",
       "      <td>37509</td>\n",
       "      <td>NaN</td>\n",
       "      <td>1</td>\n",
       "      <td>2010-12-01 14:33:00</td>\n",
       "      <td>0.0</td>\n",
       "      <td>NaN</td>\n",
       "      <td>United Kingdom</td>\n",
       "    </tr>\n",
       "    <tr>\n",
       "      <th>1987</th>\n",
       "      <td>536549</td>\n",
       "      <td>85226A</td>\n",
       "      <td>NaN</td>\n",
       "      <td>1</td>\n",
       "      <td>2010-12-01 14:34:00</td>\n",
       "      <td>0.0</td>\n",
       "      <td>NaN</td>\n",
       "      <td>United Kingdom</td>\n",
       "    </tr>\n",
       "    <tr>\n",
       "      <th>...</th>\n",
       "      <td>...</td>\n",
       "      <td>...</td>\n",
       "      <td>...</td>\n",
       "      <td>...</td>\n",
       "      <td>...</td>\n",
       "      <td>...</td>\n",
       "      <td>...</td>\n",
       "      <td>...</td>\n",
       "    </tr>\n",
       "    <tr>\n",
       "      <th>535322</th>\n",
       "      <td>581199</td>\n",
       "      <td>84581</td>\n",
       "      <td>NaN</td>\n",
       "      <td>-2</td>\n",
       "      <td>2011-12-07 18:26:00</td>\n",
       "      <td>0.0</td>\n",
       "      <td>NaN</td>\n",
       "      <td>United Kingdom</td>\n",
       "    </tr>\n",
       "    <tr>\n",
       "      <th>535326</th>\n",
       "      <td>581203</td>\n",
       "      <td>23406</td>\n",
       "      <td>NaN</td>\n",
       "      <td>15</td>\n",
       "      <td>2011-12-07 18:31:00</td>\n",
       "      <td>0.0</td>\n",
       "      <td>NaN</td>\n",
       "      <td>United Kingdom</td>\n",
       "    </tr>\n",
       "    <tr>\n",
       "      <th>535332</th>\n",
       "      <td>581209</td>\n",
       "      <td>21620</td>\n",
       "      <td>NaN</td>\n",
       "      <td>6</td>\n",
       "      <td>2011-12-07 18:35:00</td>\n",
       "      <td>0.0</td>\n",
       "      <td>NaN</td>\n",
       "      <td>United Kingdom</td>\n",
       "    </tr>\n",
       "    <tr>\n",
       "      <th>536981</th>\n",
       "      <td>581234</td>\n",
       "      <td>72817</td>\n",
       "      <td>NaN</td>\n",
       "      <td>27</td>\n",
       "      <td>2011-12-08 10:33:00</td>\n",
       "      <td>0.0</td>\n",
       "      <td>NaN</td>\n",
       "      <td>United Kingdom</td>\n",
       "    </tr>\n",
       "    <tr>\n",
       "      <th>538554</th>\n",
       "      <td>581408</td>\n",
       "      <td>85175</td>\n",
       "      <td>NaN</td>\n",
       "      <td>20</td>\n",
       "      <td>2011-12-08 14:06:00</td>\n",
       "      <td>0.0</td>\n",
       "      <td>NaN</td>\n",
       "      <td>United Kingdom</td>\n",
       "    </tr>\n",
       "  </tbody>\n",
       "</table>\n",
       "<p>1454 rows × 8 columns</p>\n",
       "</div>"
      ],
      "text/plain": [
       "       InvoiceNo StockCode Description  Quantity         InvoiceDate  \\\n",
       "622       536414     22139         NaN        56 2010-12-01 11:52:00   \n",
       "1970      536545     21134         NaN         1 2010-12-01 14:32:00   \n",
       "1971      536546     22145         NaN         1 2010-12-01 14:33:00   \n",
       "1972      536547     37509         NaN         1 2010-12-01 14:33:00   \n",
       "1987      536549    85226A         NaN         1 2010-12-01 14:34:00   \n",
       "...          ...       ...         ...       ...                 ...   \n",
       "535322    581199     84581         NaN        -2 2011-12-07 18:26:00   \n",
       "535326    581203     23406         NaN        15 2011-12-07 18:31:00   \n",
       "535332    581209     21620         NaN         6 2011-12-07 18:35:00   \n",
       "536981    581234     72817         NaN        27 2011-12-08 10:33:00   \n",
       "538554    581408     85175         NaN        20 2011-12-08 14:06:00   \n",
       "\n",
       "        UnitPrice  CustomerID         Country  \n",
       "622           0.0         NaN  United Kingdom  \n",
       "1970          0.0         NaN  United Kingdom  \n",
       "1971          0.0         NaN  United Kingdom  \n",
       "1972          0.0         NaN  United Kingdom  \n",
       "1987          0.0         NaN  United Kingdom  \n",
       "...           ...         ...             ...  \n",
       "535322        0.0         NaN  United Kingdom  \n",
       "535326        0.0         NaN  United Kingdom  \n",
       "535332        0.0         NaN  United Kingdom  \n",
       "536981        0.0         NaN  United Kingdom  \n",
       "538554        0.0         NaN  United Kingdom  \n",
       "\n",
       "[1454 rows x 8 columns]"
      ]
     },
     "execution_count": 48,
     "metadata": {},
     "output_type": "execute_result"
    }
   ],
   "source": [
    "des_missing = content[content['Description'].isna()]\n",
    "des_missing"
   ]
  },
  {
   "cell_type": "code",
   "execution_count": 56,
   "id": "ca58f289",
   "metadata": {},
   "outputs": [
    {
     "name": "stdout",
     "output_type": "stream",
     "text": [
      "Giá trị lớn nhất khi giao dịch của các giao dịch khi bị thiếu Description là: 0.0\n",
      "Số lượng CustomerID bị thiếu khi Description bị thiếu là: 1454\n"
     ]
    }
   ],
   "source": [
    "max_price = content[content['Description'].isna()]['UnitPrice'].max()\n",
    "customer_not_missing = sum(content[content['Description'].isna()]['CustomerID'].isna())\n",
    "print(f\"Giá trị lớn nhất khi giao dịch của các giao dịch khi bị thiếu Description là: {max_price}\")\n",
    "print(f\"Số lượng CustomerID bị thiếu khi Description bị thiếu là: {customer_not_missing}\")"
   ]
  },
  {
   "cell_type": "markdown",
   "id": "bcfe5031",
   "metadata": {},
   "source": [
    "Nhìn vào các giá trị ở cột <b>Description</b> bị thiếu, nhận thấy rằng toàn bộ giá trị của cột <b>UnitPrice</b> đều có giá trị = 0 và toàn bộ giá trị cột <b>CustomerID</b> đều bị thiếu. Dữ liệu bất thường do không có CustomerID và UnitPrice = 0."
   ]
  },
  {
   "cell_type": "markdown",
   "id": "2f100c85",
   "metadata": {},
   "source": [
    "## Đặt vấn đề"
   ]
  },
  {
   "cell_type": "code",
   "execution_count": 12,
   "id": "02fda735",
   "metadata": {},
   "outputs": [],
   "source": [
    "# Trình bày mỗi câu hỏi bằng một cell markdown, định dạng h3 (### ở đầu).\n",
    "# Đặt câu hỏi trước khi thực hiện trả lời câu hỏi (bằng code hoặc text)."
   ]
  },
  {
   "cell_type": "markdown",
   "id": "70b40237",
   "metadata": {},
   "source": [
    "## Tiền xử lí dữ liệu"
   ]
  },
  {
   "cell_type": "code",
   "execution_count": 13,
   "id": "24dbac7a",
   "metadata": {},
   "outputs": [],
   "source": [
    "# Trình bày mỗi câu hỏi bằng một cell markdown, định dạng h3 (### ở đầu).\n",
    "# Đặt câu hỏi trước khi thực hiện trả lời câu hỏi (bằng code hoặc text)."
   ]
  },
  {
   "cell_type": "markdown",
   "id": "6dfc017b",
   "metadata": {},
   "source": [
    "## Phân tích dữ liệu và trả lời câu hỏi"
   ]
  },
  {
   "cell_type": "code",
   "execution_count": 14,
   "id": "4642f549",
   "metadata": {},
   "outputs": [],
   "source": [
    "# Trình bày mỗi câu hỏi bằng một cell markdown, định dạng h3 (### ở đầu).\n",
    "# Đặt câu hỏi trước khi thực hiện trả lời câu hỏi (bằng code hoặc text)."
   ]
  },
  {
   "cell_type": "markdown",
   "id": "7317ca44",
   "metadata": {},
   "source": [
    "## Nguồn tham khảo"
   ]
  },
  {
   "cell_type": "code",
   "execution_count": null,
   "id": "1ec7ac4d",
   "metadata": {},
   "outputs": [],
   "source": []
  }
 ],
 "metadata": {
  "kernelspec": {
   "display_name": "Python 3 (ipykernel)",
   "language": "python",
   "name": "python3"
  },
  "language_info": {
   "codemirror_mode": {
    "name": "ipython",
    "version": 3
   },
   "file_extension": ".py",
   "mimetype": "text/x-python",
   "name": "python",
   "nbconvert_exporter": "python",
   "pygments_lexer": "ipython3",
   "version": "3.9.7"
  }
 },
 "nbformat": 4,
 "nbformat_minor": 5
}
