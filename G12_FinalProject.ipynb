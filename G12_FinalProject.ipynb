{
 "cells": [
  {
   "cell_type": "markdown",
   "id": "68fd5999",
   "metadata": {},
   "source": [
    "# Final Project - Lập trình cho Khoa học dữ liệu\n",
    "\n",
    "## Thông tin nhóm\n",
    "\n",
    "Nhóm: 12\n",
    "\n",
    "Số lượng thành viên: 2\n",
    "\n",
    "Thành viên 1:\n",
    "- Họ và tên:\n",
    "- MSSV:\n",
    "- Email:\n",
    "\n",
    "Thành viên 2:\n",
    "- Họ và tên:\n",
    "- MSSV:\n",
    "- Email:\n",
    "\n",
    "## Thông tin đồ án"
   ]
  },
  {
   "cell_type": "markdown",
   "id": "f4c0bd2a",
   "metadata": {},
   "source": [
    "## Các thư viện hỗ trợ"
   ]
  },
  {
   "cell_type": "code",
   "execution_count": 2,
   "id": "158d6b6d",
   "metadata": {},
   "outputs": [],
   "source": [
    "import pandas as pd\n",
    "import seaborn as sns\n",
    "import matplotlib.pyplot as plt"
   ]
  },
  {
   "cell_type": "markdown",
   "id": "d8f6af2c",
   "metadata": {},
   "source": [
    "## Thu thập dữ liệu\n",
    "> What subject is your data about? What is the source of your data?\n",
    "\n",
    "Đây là tập dữ liệu xuyên quốc gia chứa tất cả các giao dịch diễn ra từ ngày 01/12/2010 đến 09/12/2011 cho một cửa hàng bán lẻ trực tuyến (không có cửa hàng trực tiếp) và có trụ sở tại Vương quốc Anh. Công ty chủ yếu bán quà tặng các dịp lễ. Đa số khách hàng của công ty là những thương lái.\n",
    "\n",
    "> Do authors of this data allow you to use like this?\n",
    "\n",
    "Không có thông tin về License trên Kaggle, tuy nhiên tập dữ liệu được hiển thị public trên Kaggle và được lấy từ một nguồn online miễn phí khác ([UCI Machine Learning Repository](https://archive.ics.uci.edu/ml/index.php))\n",
    "\n",
    "> How did authors collect data?\n",
    "\n",
    "Không có thông tin về việc tác giả thu thập như thế nào, tuy nhiên người upload tập dữ liệu này trên Kaggle, lấy trực tiếp từ [UCI Machine Learning Repository](https://archive.ics.uci.edu/ml/index.php) và sở hữu thực tế được ghi trên thư viện này là \"*Dr Daqing Chen, Director: Public Analytics group. chend '@' lsbu.ac.uk, School of Engineering, London South Bank University, London SE1 0AA, UK*\".\n",
    "\n"
   ]
  },
  {
   "cell_type": "code",
   "execution_count": 3,
   "id": "bcda5d0a",
   "metadata": {},
   "outputs": [
    {
     "data": {
      "text/html": [
       "<div>\n",
       "<style scoped>\n",
       "    .dataframe tbody tr th:only-of-type {\n",
       "        vertical-align: middle;\n",
       "    }\n",
       "\n",
       "    .dataframe tbody tr th {\n",
       "        vertical-align: top;\n",
       "    }\n",
       "\n",
       "    .dataframe thead th {\n",
       "        text-align: right;\n",
       "    }\n",
       "</style>\n",
       "<table border=\"1\" class=\"dataframe\">\n",
       "  <thead>\n",
       "    <tr style=\"text-align: right;\">\n",
       "      <th></th>\n",
       "      <th>InvoiceNo</th>\n",
       "      <th>StockCode</th>\n",
       "      <th>Description</th>\n",
       "      <th>Quantity</th>\n",
       "      <th>InvoiceDate</th>\n",
       "      <th>UnitPrice</th>\n",
       "      <th>CustomerID</th>\n",
       "      <th>Country</th>\n",
       "    </tr>\n",
       "  </thead>\n",
       "  <tbody>\n",
       "    <tr>\n",
       "      <th>0</th>\n",
       "      <td>536365</td>\n",
       "      <td>85123A</td>\n",
       "      <td>WHITE HANGING HEART T-LIGHT HOLDER</td>\n",
       "      <td>6</td>\n",
       "      <td>12/1/2010 8:26</td>\n",
       "      <td>2.55</td>\n",
       "      <td>17850.0</td>\n",
       "      <td>United Kingdom</td>\n",
       "    </tr>\n",
       "    <tr>\n",
       "      <th>1</th>\n",
       "      <td>536365</td>\n",
       "      <td>71053</td>\n",
       "      <td>WHITE METAL LANTERN</td>\n",
       "      <td>6</td>\n",
       "      <td>12/1/2010 8:26</td>\n",
       "      <td>3.39</td>\n",
       "      <td>17850.0</td>\n",
       "      <td>United Kingdom</td>\n",
       "    </tr>\n",
       "    <tr>\n",
       "      <th>2</th>\n",
       "      <td>536365</td>\n",
       "      <td>84406B</td>\n",
       "      <td>CREAM CUPID HEARTS COAT HANGER</td>\n",
       "      <td>8</td>\n",
       "      <td>12/1/2010 8:26</td>\n",
       "      <td>2.75</td>\n",
       "      <td>17850.0</td>\n",
       "      <td>United Kingdom</td>\n",
       "    </tr>\n",
       "    <tr>\n",
       "      <th>3</th>\n",
       "      <td>536365</td>\n",
       "      <td>84029G</td>\n",
       "      <td>KNITTED UNION FLAG HOT WATER BOTTLE</td>\n",
       "      <td>6</td>\n",
       "      <td>12/1/2010 8:26</td>\n",
       "      <td>3.39</td>\n",
       "      <td>17850.0</td>\n",
       "      <td>United Kingdom</td>\n",
       "    </tr>\n",
       "    <tr>\n",
       "      <th>4</th>\n",
       "      <td>536365</td>\n",
       "      <td>84029E</td>\n",
       "      <td>RED WOOLLY HOTTIE WHITE HEART.</td>\n",
       "      <td>6</td>\n",
       "      <td>12/1/2010 8:26</td>\n",
       "      <td>3.39</td>\n",
       "      <td>17850.0</td>\n",
       "      <td>United Kingdom</td>\n",
       "    </tr>\n",
       "    <tr>\n",
       "      <th>...</th>\n",
       "      <td>...</td>\n",
       "      <td>...</td>\n",
       "      <td>...</td>\n",
       "      <td>...</td>\n",
       "      <td>...</td>\n",
       "      <td>...</td>\n",
       "      <td>...</td>\n",
       "      <td>...</td>\n",
       "    </tr>\n",
       "    <tr>\n",
       "      <th>541904</th>\n",
       "      <td>581587</td>\n",
       "      <td>22613</td>\n",
       "      <td>PACK OF 20 SPACEBOY NAPKINS</td>\n",
       "      <td>12</td>\n",
       "      <td>12/9/2011 12:50</td>\n",
       "      <td>0.85</td>\n",
       "      <td>12680.0</td>\n",
       "      <td>France</td>\n",
       "    </tr>\n",
       "    <tr>\n",
       "      <th>541905</th>\n",
       "      <td>581587</td>\n",
       "      <td>22899</td>\n",
       "      <td>CHILDREN'S APRON DOLLY GIRL</td>\n",
       "      <td>6</td>\n",
       "      <td>12/9/2011 12:50</td>\n",
       "      <td>2.10</td>\n",
       "      <td>12680.0</td>\n",
       "      <td>France</td>\n",
       "    </tr>\n",
       "    <tr>\n",
       "      <th>541906</th>\n",
       "      <td>581587</td>\n",
       "      <td>23254</td>\n",
       "      <td>CHILDRENS CUTLERY DOLLY GIRL</td>\n",
       "      <td>4</td>\n",
       "      <td>12/9/2011 12:50</td>\n",
       "      <td>4.15</td>\n",
       "      <td>12680.0</td>\n",
       "      <td>France</td>\n",
       "    </tr>\n",
       "    <tr>\n",
       "      <th>541907</th>\n",
       "      <td>581587</td>\n",
       "      <td>23255</td>\n",
       "      <td>CHILDRENS CUTLERY CIRCUS PARADE</td>\n",
       "      <td>4</td>\n",
       "      <td>12/9/2011 12:50</td>\n",
       "      <td>4.15</td>\n",
       "      <td>12680.0</td>\n",
       "      <td>France</td>\n",
       "    </tr>\n",
       "    <tr>\n",
       "      <th>541908</th>\n",
       "      <td>581587</td>\n",
       "      <td>22138</td>\n",
       "      <td>BAKING SET 9 PIECE RETROSPOT</td>\n",
       "      <td>3</td>\n",
       "      <td>12/9/2011 12:50</td>\n",
       "      <td>4.95</td>\n",
       "      <td>12680.0</td>\n",
       "      <td>France</td>\n",
       "    </tr>\n",
       "  </tbody>\n",
       "</table>\n",
       "<p>541909 rows × 8 columns</p>\n",
       "</div>"
      ],
      "text/plain": [
       "       InvoiceNo StockCode                          Description  Quantity  \\\n",
       "0         536365    85123A   WHITE HANGING HEART T-LIGHT HOLDER         6   \n",
       "1         536365     71053                  WHITE METAL LANTERN         6   \n",
       "2         536365    84406B       CREAM CUPID HEARTS COAT HANGER         8   \n",
       "3         536365    84029G  KNITTED UNION FLAG HOT WATER BOTTLE         6   \n",
       "4         536365    84029E       RED WOOLLY HOTTIE WHITE HEART.         6   \n",
       "...          ...       ...                                  ...       ...   \n",
       "541904    581587     22613          PACK OF 20 SPACEBOY NAPKINS        12   \n",
       "541905    581587     22899         CHILDREN'S APRON DOLLY GIRL          6   \n",
       "541906    581587     23254        CHILDRENS CUTLERY DOLLY GIRL          4   \n",
       "541907    581587     23255      CHILDRENS CUTLERY CIRCUS PARADE         4   \n",
       "541908    581587     22138        BAKING SET 9 PIECE RETROSPOT          3   \n",
       "\n",
       "            InvoiceDate  UnitPrice  CustomerID         Country  \n",
       "0        12/1/2010 8:26       2.55     17850.0  United Kingdom  \n",
       "1        12/1/2010 8:26       3.39     17850.0  United Kingdom  \n",
       "2        12/1/2010 8:26       2.75     17850.0  United Kingdom  \n",
       "3        12/1/2010 8:26       3.39     17850.0  United Kingdom  \n",
       "4        12/1/2010 8:26       3.39     17850.0  United Kingdom  \n",
       "...                 ...        ...         ...             ...  \n",
       "541904  12/9/2011 12:50       0.85     12680.0          France  \n",
       "541905  12/9/2011 12:50       2.10     12680.0          France  \n",
       "541906  12/9/2011 12:50       4.15     12680.0          France  \n",
       "541907  12/9/2011 12:50       4.15     12680.0          France  \n",
       "541908  12/9/2011 12:50       4.95     12680.0          France  \n",
       "\n",
       "[541909 rows x 8 columns]"
      ]
     },
     "execution_count": 3,
     "metadata": {},
     "output_type": "execute_result"
    }
   ],
   "source": [
    "path = \"./data.csv\"\n",
    "content = pd.read_csv(path, encoding= 'unicode_escape')\n",
    "content"
   ]
  },
  {
   "cell_type": "markdown",
   "id": "302c1989",
   "metadata": {},
   "source": [
    "## Khám phá dữ liệu"
   ]
  },
  {
   "cell_type": "markdown",
   "id": "39919f63",
   "metadata": {},
   "source": [
    "### Dữ liệu có bao nhiêu dòng và bao nhiêu cột?"
   ]
  },
  {
   "cell_type": "code",
   "execution_count": 4,
   "id": "6152e292",
   "metadata": {},
   "outputs": [
    {
     "name": "stdout",
     "output_type": "stream",
     "text": [
      "Dữ liệu trên có 541909 dòng và 8 cột\n"
     ]
    }
   ],
   "source": [
    "rows = content.shape[0]\n",
    "cols = content.shape[1]\n",
    "print(f\"Dữ liệu trên có {rows} dòng và {cols} cột\")"
   ]
  },
  {
   "cell_type": "markdown",
   "id": "55363d68",
   "metadata": {},
   "source": [
    "### Mỗi dòng có ý nghĩa gì? "
   ]
  },
  {
   "cell_type": "markdown",
   "id": "85123308",
   "metadata": {},
   "source": [
    "Mỗi dòng là thông tin giao dịch một loại hàng hoá của một khách hàng."
   ]
  },
  {
   "cell_type": "markdown",
   "id": "bb120f24",
   "metadata": {},
   "source": [
    "### Trong dữ liệu trên  ( chưa qua xử lý), có dòng bị lặp không?"
   ]
  },
  {
   "cell_type": "code",
   "execution_count": 5,
   "id": "e734d709",
   "metadata": {},
   "outputs": [
    {
     "name": "stdout",
     "output_type": "stream",
     "text": [
      "Dữ liệu trên có 5268 dòng bị lặp\n"
     ]
    }
   ],
   "source": [
    "print(f\"Dữ liệu trên có {content.duplicated().sum()} dòng bị lặp\")"
   ]
  },
  {
   "cell_type": "markdown",
   "id": "59420a79",
   "metadata": {},
   "source": [
    "### Mỗi cột có ý nghĩa gì?"
   ]
  },
  {
   "cell_type": "markdown",
   "id": "79e72d08",
   "metadata": {},
   "source": [
    "- <b>InvoiceNo</b>: Mã hoá đơn, , nếu mã này có kí tự đầu là \"C\" thì giao dịch đó đã bị huỷ.\n",
    "- <b>StockCode</b>: Mã sản phẩm\n",
    "- <b>Description</b>: Tên sản phẩm\n",
    "- <b>Quantity</b>: Số lượng mỗi sản phẩm trên mỗi lần giao dịch\n",
    "- <b>InvoiceDate</b>: Ngày và giờ giao dịch\n",
    "- <b>UnitPrice</b>: Đơn giá. Đơn giá này được tính theo đơn vị Bảng Anh.\n",
    "- <b>CustomerID</b>: Mã khách hàng\n",
    "- <b>Country</b>: Tên quốc gia của khách hàng"
   ]
  },
  {
   "cell_type": "markdown",
   "id": "b83b505a",
   "metadata": {},
   "source": [
    "### Mỗi cột đang có kiểu dữ liệu gì? Có cột nào có kiểu dữ liệu chưa phù hợp để xử lý ở những bước tiếp theo không?"
   ]
  },
  {
   "cell_type": "code",
   "execution_count": 6,
   "id": "70e1dcde",
   "metadata": {},
   "outputs": [
    {
     "data": {
      "text/html": [
       "<div>\n",
       "<style scoped>\n",
       "    .dataframe tbody tr th:only-of-type {\n",
       "        vertical-align: middle;\n",
       "    }\n",
       "\n",
       "    .dataframe tbody tr th {\n",
       "        vertical-align: top;\n",
       "    }\n",
       "\n",
       "    .dataframe thead th {\n",
       "        text-align: right;\n",
       "    }\n",
       "</style>\n",
       "<table border=\"1\" class=\"dataframe\">\n",
       "  <thead>\n",
       "    <tr style=\"text-align: right;\">\n",
       "      <th></th>\n",
       "      <th>InvoiceNo</th>\n",
       "      <th>StockCode</th>\n",
       "      <th>Description</th>\n",
       "      <th>Quantity</th>\n",
       "      <th>InvoiceDate</th>\n",
       "      <th>UnitPrice</th>\n",
       "      <th>CustomerID</th>\n",
       "      <th>Country</th>\n",
       "    </tr>\n",
       "  </thead>\n",
       "  <tbody>\n",
       "    <tr>\n",
       "      <th>type</th>\n",
       "      <td>object</td>\n",
       "      <td>object</td>\n",
       "      <td>object</td>\n",
       "      <td>int64</td>\n",
       "      <td>object</td>\n",
       "      <td>float64</td>\n",
       "      <td>float64</td>\n",
       "      <td>object</td>\n",
       "    </tr>\n",
       "  </tbody>\n",
       "</table>\n",
       "</div>"
      ],
      "text/plain": [
       "     InvoiceNo StockCode Description Quantity InvoiceDate UnitPrice  \\\n",
       "type    object    object      object    int64      object   float64   \n",
       "\n",
       "     CustomerID Country  \n",
       "type    float64  object  "
      ]
     },
     "execution_count": 6,
     "metadata": {},
     "output_type": "execute_result"
    }
   ],
   "source": [
    "pd.DataFrame(content.dtypes).T.rename(index={0:'type'})"
   ]
  },
  {
   "cell_type": "markdown",
   "id": "1aefcef5",
   "metadata": {},
   "source": [
    "- Các cột <b>InvoiceNo</b>, <b>StockCode</b>, <b>Description</b>, <b>Country</b>: Có kiểu dữ liệu ở dạng chuỗi. Kiểu dữ liệu này thích hợp cho các loại dữ liệu trên nên đây là kiểu dữ liệu đúng.\n",
    "- Các cột <b>Quantity</b>, <b>CustomerID</b>, <b>UnitPrice</b>: Có kiểu dữ liệu dạng số. Thể hiện đúng tên của từng cột.\n",
    "- Cột <b>InvoiceDate</b>: Có kiểu dữ liệu dạng chuỗi. Để thuận tiện hơn khi xử lý thời gian, cần chuyển về dạng datetime. Em sẽ chuyển ngay dưới đây."
   ]
  },
  {
   "cell_type": "code",
   "execution_count": 7,
   "id": "a1d53102",
   "metadata": {},
   "outputs": [],
   "source": [
    "content['InvoiceDate'] = pd.to_datetime(content['InvoiceDate'])\n",
    "categorical_cols = ['InvoiceNo', 'StockCode', 'Description', 'Country']\n",
    "numeric_cols = ['Quantity', 'CustomerID', 'UnitPrice']"
   ]
  },
  {
   "cell_type": "markdown",
   "id": "0d7e6e1f",
   "metadata": {},
   "source": [
    "### Với mỗi cột dạng số thực và dạng datetime, các giá trị được phân bố như thế nào?"
   ]
  },
  {
   "cell_type": "markdown",
   "id": "762ca5be",
   "metadata": {},
   "source": [
    "Ở đây có 3 cột số thực là <b>Quantity</b>, <b>CustomerID</b> và <b>UnitPrice</b>. Em sẽ khám phá xem tỷ lệ % giá trị bị thiếu của các cột trên."
   ]
  },
  {
   "cell_type": "code",
   "execution_count": 8,
   "id": "effbb647",
   "metadata": {},
   "outputs": [
    {
     "data": {
      "text/html": [
       "<div>\n",
       "<style scoped>\n",
       "    .dataframe tbody tr th:only-of-type {\n",
       "        vertical-align: middle;\n",
       "    }\n",
       "\n",
       "    .dataframe tbody tr th {\n",
       "        vertical-align: top;\n",
       "    }\n",
       "\n",
       "    .dataframe thead th {\n",
       "        text-align: right;\n",
       "    }\n",
       "</style>\n",
       "<table border=\"1\" class=\"dataframe\">\n",
       "  <thead>\n",
       "    <tr style=\"text-align: right;\">\n",
       "      <th></th>\n",
       "      <th>Quantity</th>\n",
       "      <th>CustomerID</th>\n",
       "      <th>UnitPrice</th>\n",
       "    </tr>\n",
       "  </thead>\n",
       "  <tbody>\n",
       "    <tr>\n",
       "      <th>Missing (%)</th>\n",
       "      <td>0.0</td>\n",
       "      <td>24.926694</td>\n",
       "      <td>0.0</td>\n",
       "    </tr>\n",
       "  </tbody>\n",
       "</table>\n",
       "</div>"
      ],
      "text/plain": [
       "             Quantity  CustomerID  UnitPrice\n",
       "Missing (%)       0.0   24.926694        0.0"
      ]
     },
     "execution_count": 8,
     "metadata": {},
     "output_type": "execute_result"
    }
   ],
   "source": [
    "null_numeric = pd.DataFrame(pd.DataFrame(content[numeric_cols].isnull().sum()/content.shape[0]*100).T.\n",
    "                         rename(index={0:'Missing (%)'}))\n",
    "null_numeric"
   ]
  },
  {
   "cell_type": "markdown",
   "id": "ef77c86f",
   "metadata": {},
   "source": [
    "Nhìn vào bảng trên, nhận thấy cột <b>Quantity</b> và cột <b>UnitPrice</b> có 0% tỷ lệ thiếu. Nhưng cột <b>CustomerID</b> có đến 24.9% tỷ lệ thiếu. Đây là cột CustomerID, mỗi khách hàng có một CustomerID duy nhất, nhóm em nhận thấy không thể dùng những kỹ thuật điền giá trị thiếu để điền vào trong trường hợp này được. Do đó, em sẽ xoá những dòng có CustomerID bị thiếu."
   ]
  },
  {
   "cell_type": "code",
   "execution_count": 9,
   "id": "cd2950ca",
   "metadata": {},
   "outputs": [
    {
     "data": {
      "text/html": [
       "<div>\n",
       "<style scoped>\n",
       "    .dataframe tbody tr th:only-of-type {\n",
       "        vertical-align: middle;\n",
       "    }\n",
       "\n",
       "    .dataframe tbody tr th {\n",
       "        vertical-align: top;\n",
       "    }\n",
       "\n",
       "    .dataframe thead th {\n",
       "        text-align: right;\n",
       "    }\n",
       "</style>\n",
       "<table border=\"1\" class=\"dataframe\">\n",
       "  <thead>\n",
       "    <tr style=\"text-align: right;\">\n",
       "      <th></th>\n",
       "      <th>Quantity</th>\n",
       "      <th>UnitPrice</th>\n",
       "      <th>InvoiceDate</th>\n",
       "    </tr>\n",
       "  </thead>\n",
       "  <tbody>\n",
       "    <tr>\n",
       "      <th>min</th>\n",
       "      <td>-80995</td>\n",
       "      <td>-11062.06</td>\n",
       "      <td>2010-12-01 08:26:00</td>\n",
       "    </tr>\n",
       "    <tr>\n",
       "      <th>max</th>\n",
       "      <td>80995</td>\n",
       "      <td>38970.00</td>\n",
       "      <td>2011-12-09 12:50:00</td>\n",
       "    </tr>\n",
       "  </tbody>\n",
       "</table>\n",
       "</div>"
      ],
      "text/plain": [
       "     Quantity  UnitPrice         InvoiceDate\n",
       "min    -80995  -11062.06 2010-12-01 08:26:00\n",
       "max     80995   38970.00 2011-12-09 12:50:00"
      ]
     },
     "execution_count": 9,
     "metadata": {},
     "output_type": "execute_result"
    }
   ],
   "source": [
    "content['InvoiceDate'] = pd.to_datetime(content['InvoiceDate'])\n",
    "min_Quantity = min(content['Quantity'])\n",
    "max_Quantity = max(content['Quantity'])\n",
    "min_UnitPrice = min(content['UnitPrice'])\n",
    "max_UnitPrice = max(content['UnitPrice'])\n",
    "min_InvoiceDate = min(content['InvoiceDate']) \n",
    "max_InvoiceDate = max(content['InvoiceDate'])\n",
    "data_min_max = {\n",
    "    'Quantity': [min_Quantity, max_Quantity],\n",
    "    'UnitPrice': [min_UnitPrice, max_UnitPrice],\n",
    "    'InvoiceDate': [min_InvoiceDate, max_InvoiceDate]\n",
    "}\n",
    "min_max_numeric = pd.DataFrame(data_min_max).rename(index={0:'min', 1:'max'})\n",
    "min_max_numeric"
   ]
  },
  {
   "cell_type": "markdown",
   "id": "038e9dbf",
   "metadata": {},
   "source": [
    "min và max của cột <b>InvoiceDate</b> không có gì bất thường. Nhưng min và max của cột <b>Quantity</b> và cột <b>UnitPrice</b> chứa số âm. Số âm này thể hiện số lượng trả lại và giá trị đơn trả lại. Nên đây cũng không có gì bất thường."
   ]
  },
  {
   "cell_type": "markdown",
   "id": "e7e84a16",
   "metadata": {},
   "source": [
    "### Với mỗi cột có kiểu dữ liệu dạng phân loại, các giá trị được phân bố như thế nào?"
   ]
  },
  {
   "cell_type": "code",
   "execution_count": 10,
   "id": "557957be",
   "metadata": {},
   "outputs": [],
   "source": [
    "def dif_values(arr):\n",
    "    \"\"\"\n",
    "    Đầu vào:\n",
    "      arr: \n",
    "        Dạng: list \n",
    "        Miêu tả: Dữ liệu của một cột\n",
    "    \n",
    "    Đầu ra:\n",
    "      set_dif_val:\n",
    "        Miêu tả: Trả về một tập chứa các giá trị khác nhau có trong list\n",
    "      num_of_dif: \n",
    "        Miêu tả: Trả về số lượng các giá trị khác nhau có trong list\n",
    "      \"\"\"\n",
    "    set_dif_val = set(arr)\n",
    "    set_dif_val = [x for x in set_dif_val if x==x]\n",
    "    num_of_dif = len(set_dif_val)\n",
    "    \n",
    "    return set_dif_val, num_of_dif"
   ]
  },
  {
   "cell_type": "code",
   "execution_count": 11,
   "id": "ea215c6c",
   "metadata": {},
   "outputs": [
    {
     "name": "stdout",
     "output_type": "stream",
     "text": [
      "Categorical     Miss(%)      Num_of_diff      Some_val\n",
      "InvoiceNo       0.000        25900        ['C575626', '565045', '560805', '565781'...\n",
      "StockCode       0.000        4070         ['22862', '47502', '21132', '23403', '22...\n",
      "Description     0.268        4223         ['PARTY CONES CARNIVAL ASSORTED', 'EDWAR...\n",
      "Country         0.000        38           ['RSA', 'Spain', 'Austria', 'Japan', 'Ca...\n"
     ]
    }
   ],
   "source": [
    "categorical_info = {}\n",
    "num_of_missing_categorical = pd.Series(content[categorical_cols].isnull().sum())\n",
    "persent_missing_categorical = pd.Series(content[categorical_cols].isnull().sum()/content.shape[0]*100)\n",
    "for col in categorical_cols:\n",
    "    categorical_info[col] = dif_values(content[col])\n",
    "print(f\"{'Categorical':15} {'Miss(%)':12} {'Num_of_diff':16} {'Some_val'}\")\n",
    "\n",
    "for col in categorical_cols:\n",
    "    categorical_info['StockCode'][0][:3]\n",
    "    print(f'{col:15} {persent_missing_categorical[col]:<12.3f} {categorical_info[col][1]:<12} {categorical_info[col][0].__repr__()[:40]+\"...\":<}')"
   ]
  },
  {
   "cell_type": "markdown",
   "id": "807c3500",
   "metadata": {},
   "source": [
    "Theo bảng trên, chỉ có cột Description có dữ liệu bị thiếu, và thiếu 0.268%. Mặc dù có 4070 mã sản phẩm nhưng lại có tới 4223 tên cho sản phẩm. Số lượng các giá trị khác nhau trong cột dạng categorical đều là số dương, cột some_val đều khác nhau. Dữ liệu thu thập được không có gì bất thường. Để có cái nhìn rõ hơn về các giá trị còn thiếu, nhóm em sẽ in ra các dòng còn thiếu."
   ]
  },
  {
   "cell_type": "code",
   "execution_count": 12,
   "id": "52fc4182",
   "metadata": {},
   "outputs": [
    {
     "data": {
      "text/html": [
       "<div>\n",
       "<style scoped>\n",
       "    .dataframe tbody tr th:only-of-type {\n",
       "        vertical-align: middle;\n",
       "    }\n",
       "\n",
       "    .dataframe tbody tr th {\n",
       "        vertical-align: top;\n",
       "    }\n",
       "\n",
       "    .dataframe thead th {\n",
       "        text-align: right;\n",
       "    }\n",
       "</style>\n",
       "<table border=\"1\" class=\"dataframe\">\n",
       "  <thead>\n",
       "    <tr style=\"text-align: right;\">\n",
       "      <th></th>\n",
       "      <th>InvoiceNo</th>\n",
       "      <th>StockCode</th>\n",
       "      <th>Description</th>\n",
       "      <th>Quantity</th>\n",
       "      <th>InvoiceDate</th>\n",
       "      <th>UnitPrice</th>\n",
       "      <th>CustomerID</th>\n",
       "      <th>Country</th>\n",
       "    </tr>\n",
       "  </thead>\n",
       "  <tbody>\n",
       "    <tr>\n",
       "      <th>622</th>\n",
       "      <td>536414</td>\n",
       "      <td>22139</td>\n",
       "      <td>NaN</td>\n",
       "      <td>56</td>\n",
       "      <td>2010-12-01 11:52:00</td>\n",
       "      <td>0.0</td>\n",
       "      <td>NaN</td>\n",
       "      <td>United Kingdom</td>\n",
       "    </tr>\n",
       "    <tr>\n",
       "      <th>1970</th>\n",
       "      <td>536545</td>\n",
       "      <td>21134</td>\n",
       "      <td>NaN</td>\n",
       "      <td>1</td>\n",
       "      <td>2010-12-01 14:32:00</td>\n",
       "      <td>0.0</td>\n",
       "      <td>NaN</td>\n",
       "      <td>United Kingdom</td>\n",
       "    </tr>\n",
       "    <tr>\n",
       "      <th>1971</th>\n",
       "      <td>536546</td>\n",
       "      <td>22145</td>\n",
       "      <td>NaN</td>\n",
       "      <td>1</td>\n",
       "      <td>2010-12-01 14:33:00</td>\n",
       "      <td>0.0</td>\n",
       "      <td>NaN</td>\n",
       "      <td>United Kingdom</td>\n",
       "    </tr>\n",
       "    <tr>\n",
       "      <th>1972</th>\n",
       "      <td>536547</td>\n",
       "      <td>37509</td>\n",
       "      <td>NaN</td>\n",
       "      <td>1</td>\n",
       "      <td>2010-12-01 14:33:00</td>\n",
       "      <td>0.0</td>\n",
       "      <td>NaN</td>\n",
       "      <td>United Kingdom</td>\n",
       "    </tr>\n",
       "    <tr>\n",
       "      <th>1987</th>\n",
       "      <td>536549</td>\n",
       "      <td>85226A</td>\n",
       "      <td>NaN</td>\n",
       "      <td>1</td>\n",
       "      <td>2010-12-01 14:34:00</td>\n",
       "      <td>0.0</td>\n",
       "      <td>NaN</td>\n",
       "      <td>United Kingdom</td>\n",
       "    </tr>\n",
       "    <tr>\n",
       "      <th>...</th>\n",
       "      <td>...</td>\n",
       "      <td>...</td>\n",
       "      <td>...</td>\n",
       "      <td>...</td>\n",
       "      <td>...</td>\n",
       "      <td>...</td>\n",
       "      <td>...</td>\n",
       "      <td>...</td>\n",
       "    </tr>\n",
       "    <tr>\n",
       "      <th>535322</th>\n",
       "      <td>581199</td>\n",
       "      <td>84581</td>\n",
       "      <td>NaN</td>\n",
       "      <td>-2</td>\n",
       "      <td>2011-12-07 18:26:00</td>\n",
       "      <td>0.0</td>\n",
       "      <td>NaN</td>\n",
       "      <td>United Kingdom</td>\n",
       "    </tr>\n",
       "    <tr>\n",
       "      <th>535326</th>\n",
       "      <td>581203</td>\n",
       "      <td>23406</td>\n",
       "      <td>NaN</td>\n",
       "      <td>15</td>\n",
       "      <td>2011-12-07 18:31:00</td>\n",
       "      <td>0.0</td>\n",
       "      <td>NaN</td>\n",
       "      <td>United Kingdom</td>\n",
       "    </tr>\n",
       "    <tr>\n",
       "      <th>535332</th>\n",
       "      <td>581209</td>\n",
       "      <td>21620</td>\n",
       "      <td>NaN</td>\n",
       "      <td>6</td>\n",
       "      <td>2011-12-07 18:35:00</td>\n",
       "      <td>0.0</td>\n",
       "      <td>NaN</td>\n",
       "      <td>United Kingdom</td>\n",
       "    </tr>\n",
       "    <tr>\n",
       "      <th>536981</th>\n",
       "      <td>581234</td>\n",
       "      <td>72817</td>\n",
       "      <td>NaN</td>\n",
       "      <td>27</td>\n",
       "      <td>2011-12-08 10:33:00</td>\n",
       "      <td>0.0</td>\n",
       "      <td>NaN</td>\n",
       "      <td>United Kingdom</td>\n",
       "    </tr>\n",
       "    <tr>\n",
       "      <th>538554</th>\n",
       "      <td>581408</td>\n",
       "      <td>85175</td>\n",
       "      <td>NaN</td>\n",
       "      <td>20</td>\n",
       "      <td>2011-12-08 14:06:00</td>\n",
       "      <td>0.0</td>\n",
       "      <td>NaN</td>\n",
       "      <td>United Kingdom</td>\n",
       "    </tr>\n",
       "  </tbody>\n",
       "</table>\n",
       "<p>1454 rows × 8 columns</p>\n",
       "</div>"
      ],
      "text/plain": [
       "       InvoiceNo StockCode Description  Quantity         InvoiceDate  \\\n",
       "622       536414     22139         NaN        56 2010-12-01 11:52:00   \n",
       "1970      536545     21134         NaN         1 2010-12-01 14:32:00   \n",
       "1971      536546     22145         NaN         1 2010-12-01 14:33:00   \n",
       "1972      536547     37509         NaN         1 2010-12-01 14:33:00   \n",
       "1987      536549    85226A         NaN         1 2010-12-01 14:34:00   \n",
       "...          ...       ...         ...       ...                 ...   \n",
       "535322    581199     84581         NaN        -2 2011-12-07 18:26:00   \n",
       "535326    581203     23406         NaN        15 2011-12-07 18:31:00   \n",
       "535332    581209     21620         NaN         6 2011-12-07 18:35:00   \n",
       "536981    581234     72817         NaN        27 2011-12-08 10:33:00   \n",
       "538554    581408     85175         NaN        20 2011-12-08 14:06:00   \n",
       "\n",
       "        UnitPrice  CustomerID         Country  \n",
       "622           0.0         NaN  United Kingdom  \n",
       "1970          0.0         NaN  United Kingdom  \n",
       "1971          0.0         NaN  United Kingdom  \n",
       "1972          0.0         NaN  United Kingdom  \n",
       "1987          0.0         NaN  United Kingdom  \n",
       "...           ...         ...             ...  \n",
       "535322        0.0         NaN  United Kingdom  \n",
       "535326        0.0         NaN  United Kingdom  \n",
       "535332        0.0         NaN  United Kingdom  \n",
       "536981        0.0         NaN  United Kingdom  \n",
       "538554        0.0         NaN  United Kingdom  \n",
       "\n",
       "[1454 rows x 8 columns]"
      ]
     },
     "execution_count": 12,
     "metadata": {},
     "output_type": "execute_result"
    }
   ],
   "source": [
    "des_missing = content[content['Description'].isna()]\n",
    "des_missing"
   ]
  },
  {
   "cell_type": "code",
   "execution_count": 13,
   "id": "ca58f289",
   "metadata": {},
   "outputs": [
    {
     "name": "stdout",
     "output_type": "stream",
     "text": [
      "Giá trị lớn nhất khi giao dịch của các giao dịch khi bị thiếu Description là: 0.0\n",
      "Số lượng CustomerID bị thiếu khi Description bị thiếu là: 1454\n"
     ]
    }
   ],
   "source": [
    "max_price = content[content['Description'].isna()]['UnitPrice'].max()\n",
    "customer_not_missing = sum(content[content['Description'].isna()]['CustomerID'].isna())\n",
    "print(f\"Giá trị lớn nhất khi giao dịch của các giao dịch khi bị thiếu Description là: {max_price}\")\n",
    "print(f\"Số lượng CustomerID bị thiếu khi Description bị thiếu là: {customer_not_missing}\")"
   ]
  },
  {
   "cell_type": "markdown",
   "id": "bcfe5031",
   "metadata": {},
   "source": [
    "Nhìn vào các giá trị ở cột <b>Description</b> bị thiếu, nhận thấy rằng toàn bộ giá trị của cột <b>UnitPrice</b> đều có giá trị = 0 và toàn bộ giá trị cột <b>CustomerID</b> đều bị thiếu. Dữ liệu bất thường do không có CustomerID và UnitPrice = 0."
   ]
  },
  {
   "cell_type": "markdown",
   "id": "2f100c85",
   "metadata": {},
   "source": [
    "## Đặt vấn đề"
   ]
  },
  {
   "cell_type": "markdown",
   "id": "b4e6e207",
   "metadata": {},
   "source": [
    "*Sau khi khám phá dữ liệu, ta có một số câu hỏi sau cần trả lời:*\n",
    "\n",
    "1. Thời điểm nào trong năm là mùa best-sell và mùa nào là mùa ế hàng?\n",
    "2. Loại hàng nào là best-seller all the time (top 3), và top 5 quốc gia có lượt mua hàng nhiều nhất đến thời điểm thu thập dữ liệu.\n",
    "3. CRR (Customer Retention Rate - tỉ lệ duy trì khách hàng).\n",
    "4. Doanh nghiệp đang có dự định tổ chức hệ thống khách hàng nhằm thiết kế các chương trình ưu đãi cũng như chăm sóc khách hàng được hiệu quả hơn. Doanh nghiệp muốn chia tập khách hàng theo hành vi mua hàng (tổng số tiền đặt hàng - tổng số tiền trả hàng, tổng số lượng đơn hàng đã đặt), khách hàng sẽ đượp xếp hạng dựa trên credits được tính như sau:\n",
    "    - **10 bảng Anh = 1 credit**\n",
    "    - **Member**: tích lũy từ **1 credit**\n",
    "    - **Silver member**: tích lũy từ **50 credits**\n",
    "    - **Gold member**: tích lũy từ **100 credits**\n",
    "    - **Platinum member**: tích lũy từ **1.000 credits**\n",
    "    - **Diamond member**: tích lũy từ **10.000 credits**"
   ]
  },
  {
   "cell_type": "markdown",
   "id": "70b40237",
   "metadata": {},
   "source": [
    "## Tiền xử lí dữ liệu"
   ]
  },
  {
   "cell_type": "markdown",
   "id": "503ead73",
   "metadata": {},
   "source": [
    "Ở bước <b>Khám phá dữ liệu</b>, nhận thấy có các hàng bị trùng lặp. Để xử lý em sẽ bỏ những hàng đó"
   ]
  },
  {
   "cell_type": "code",
   "execution_count": 14,
   "id": "b0780434",
   "metadata": {},
   "outputs": [],
   "source": [
    "content.drop_duplicates(inplace=True)"
   ]
  },
  {
   "cell_type": "markdown",
   "id": "15d562c6",
   "metadata": {},
   "source": [
    "Để trả lời được câu hỏi liên quan tới số lượng hàng hóa giao dịch, mình cần quan tâm tới cột <b>StockCode</b> và cột. Các dữ liệu này cần phải được làm sạch trước khi phân tích để trả lời câu hỏi. Dữ liệu ở hai cột này có bị thiếu không? Sau đây em sẽ đếm số giá trị thiếu của cột <b>StockCode</b> bằng hàm <b>isnull().sum()</b>. Sau đó sẽ dùng thư viện <b>Seaborn.barplot</b> để trực quan giá trị thiếu bằng biểu đồ cột."
   ]
  },
  {
   "cell_type": "code",
   "execution_count": 15,
   "id": "f5cb2f9e",
   "metadata": {},
   "outputs": [
    {
     "data": {
      "image/png": "[encoded data removed]",
      "text/plain": [
       "<Figure size 432x288 with 1 Axes>"
      ]
     },
     "metadata": {
      "needs_background": "light"
     },
     "output_type": "display_data"
    }
   ],
   "source": [
    "stock_question_data = content.copy()\n",
    "null_values = pd.DataFrame(stock_question_data[['StockCode', 'Description']].isnull().sum(),columns=['null_values'])\n",
    "ax = sns.barplot(y=null_values.null_values, x=null_values.index)"
   ]
  },
  {
   "cell_type": "markdown",
   "id": "f36256bb",
   "metadata": {},
   "source": [
    "Nhận thấy cột <b>Description</b> có giá trị thiếu nhưng lại không ảnh hưởng gì tới việc phân tích dữ liệu để trả lời những câu hỏi mà nhóm em đã đặt ra. Cột này cũng không thể điền giá trị thiếu bằng những phương pháp thông kê và cũng không được dùng trong quá trình phân tích các câu hỏi nên em sẽ xóa cột này đi"
   ]
  },
  {
   "cell_type": "code",
   "execution_count": 16,
   "id": "03baa196",
   "metadata": {},
   "outputs": [
    {
     "data": {
      "text/html": [
       "<div>\n",
       "<style scoped>\n",
       "    .dataframe tbody tr th:only-of-type {\n",
       "        vertical-align: middle;\n",
       "    }\n",
       "\n",
       "    .dataframe tbody tr th {\n",
       "        vertical-align: top;\n",
       "    }\n",
       "\n",
       "    .dataframe thead th {\n",
       "        text-align: right;\n",
       "    }\n",
       "</style>\n",
       "<table border=\"1\" class=\"dataframe\">\n",
       "  <thead>\n",
       "    <tr style=\"text-align: right;\">\n",
       "      <th></th>\n",
       "      <th>InvoiceNo</th>\n",
       "      <th>StockCode</th>\n",
       "      <th>Quantity</th>\n",
       "      <th>InvoiceDate</th>\n",
       "      <th>UnitPrice</th>\n",
       "      <th>CustomerID</th>\n",
       "      <th>Country</th>\n",
       "    </tr>\n",
       "  </thead>\n",
       "  <tbody>\n",
       "    <tr>\n",
       "      <th>Missing (%)</th>\n",
       "      <td>0.0</td>\n",
       "      <td>0.0</td>\n",
       "      <td>0.0</td>\n",
       "      <td>0.0</td>\n",
       "      <td>0.0</td>\n",
       "      <td>25.163377</td>\n",
       "      <td>0.0</td>\n",
       "    </tr>\n",
       "  </tbody>\n",
       "</table>\n",
       "</div>"
      ],
      "text/plain": [
       "             InvoiceNo  StockCode  Quantity  InvoiceDate  UnitPrice  \\\n",
       "Missing (%)        0.0        0.0       0.0          0.0        0.0   \n",
       "\n",
       "             CustomerID  Country  \n",
       "Missing (%)   25.163377      0.0  "
      ]
     },
     "execution_count": 16,
     "metadata": {},
     "output_type": "execute_result"
    }
   ],
   "source": [
    "content.drop('Description', axis=1, inplace=True)\n",
    "pd.DataFrame(pd.DataFrame(content.isnull().sum()/content.shape[0]*100).T.\n",
    "                         rename(index={0:'Missing (%)'}))"
   ]
  },
  {
   "cell_type": "markdown",
   "id": "6dfc017b",
   "metadata": {},
   "source": [
    "## Phân tích dữ liệu và trả lời câu hỏi"
   ]
  },
  {
   "cell_type": "markdown",
   "id": "23d9f5a8",
   "metadata": {},
   "source": [
    "### Câu hỏi 1: Thời điểm nào trong năm bán được nhiều hàng nhất và thời điểm nào bán được ít hàng nhất"
   ]
  },
  {
   "cell_type": "markdown",
   "id": "2d19fd17",
   "metadata": {},
   "source": [
    "Từ 01/12/2010 đến 09/12/2011, số lượng đơn hàng bán được trong mỗi tháng là bao nhiêu? Trước hết em phải xử lý cột <b>Quantity</b>, chỉ xét những giá trị dương ở cột này. Vì những giá trị dương này đại diện cho đơn hàng đó được bán. Tiếp theo sẽ tạo thêm một cột <b>year_month</b> là một số nguyên với năm trước, ngày sau. Ví dụ tháng 1 năm 2011 sẽ thành 201101 để tiện khi đếm số đơn đặt hàng trong mỗi tháng. Tiếp theo dùng <b>groupby</b> để nhóm mã đơn hàng và tháng năm đã đặt, gọi phương thức <b>unique</b> lấy giá trị duy nhất của mã đơn hàng. Sau đó đếm các giá trị này theo mỗi tháng, sắp xếp các giá trị vừa đếm được theo nhóm <b>year_month</b>. Biểu diễn dữ liệu vừa tạo ra bằng biểu đồ cột với trục x là tháng trong năm và trục y là số lượng đơn hàng trong tháng."
   ]
  },
  {
   "cell_type": "code",
   "execution_count": 17,
   "id": "61d5a68d",
   "metadata": {},
   "outputs": [
    {
     "data": {
      "image/png": "[encoded data removed]",
      "text/plain": [
       "<Figure size 1080x432 with 1 Axes>"
      ]
     },
     "metadata": {
      "needs_background": "light"
     },
     "output_type": "display_data"
    }
   ],
   "source": [
    "sold = stock_question_data[['InvoiceNo', 'InvoiceDate', 'Quantity']][stock_question_data['Quantity'] > 0]\n",
    "sold['year_month'] = sold['InvoiceDate'].map(lambda x: 100*x.year + x.month)\n",
    "ax = sold.groupby('InvoiceNo')['year_month'].unique().value_counts().sort_index().plot(kind='bar',figsize=(15,6))\n",
    "ax.set_xticklabels(('2010-12','2011-01','2011-02','2011-03',\n",
    "                    '2011-04','2011-05','2011-06','2011-07',\n",
    "                    '2011-08','2011-09','2011-10','2011-11','2011-12'), \n",
    "                   rotation='horizontal', fontsize=13)\n",
    "ax.set_xlabel('Month', fontsize=15)\n",
    "ax.set_ylabel('Number of Orders',fontsize=15)\n",
    "ax.set_title('Number of orders per months (2010/12/01 - 2011/12/09)',fontsize=15)\n",
    "plt.show()"
   ]
  },
  {
   "cell_type": "markdown",
   "id": "6a93991d",
   "metadata": {},
   "source": [
    "- Tháng 12/2011 là tháng đặc biệt vì chỉ thu thập trong 9 ngày nên tạm thời chưa đủ dữ liệu để so sánh với các tháng khác\n",
    "- Dựa vào biểu đồ trên, tháng 9, 10, 11 có nhiều đơn đặt hàng nhất đặc biệt là tháng 11. Cõ lẽ ở những tháng cuối năm nhu cầu mua sắm để chuẩn bị cho dịp lễ cuối năm tăng cao nên số lượng đơn hàng cũng tập trung nhiều vào những tháng này. Và đây cũng là dịp các cửa hàng tung ra nhiều đợt khuyến mãi để kích thích tiêu dùng kéo sức mua, vào cuối năm khách hàng tự tin hơn khi chi tiêu giúp tăng doanh số bán hàng.\n",
    "- Tháng 1,2 năm 2011 có ít đơn hàng nhất. Có lẽ sau những tháng cuối năm mạnh tay chi tiêu thì chi tiêu đầu năm lại tiết kiệm hơn."
   ]
  },
  {
   "cell_type": "markdown",
   "id": "1555d6c8",
   "metadata": {},
   "source": [
    "### Câu hỏi 2: Top 3 loại hàng nào bán chạy nhất và top 5 quốc gia có lượng giao dịch nhiều nhất"
   ]
  },
  {
   "cell_type": "markdown",
   "id": "929dffb1",
   "metadata": {},
   "source": [
    "#### Top 3 loại hàng bán chạy nhất"
   ]
  },
  {
   "cell_type": "markdown",
   "id": "aac5fd39",
   "metadata": {},
   "source": [
    "Do hàng hóa hiện tại có hàng trả lại hoàn tiền (Quantity < 0) và hàng được tặng miễn phí (Quantity = 0) nên trước tiên để tìm loại hàng hóa bán chạy nhất phải loại bỏ những giá trị **Quantity <= 0**  lưu vào biến stock_sold. Dùng phương thức **value_counts().sort_values()** để đếm sô lượng giá trị **StockCode** đồng thời sắp xếp theo thứ tự giảm dần. Lấy ra 3 giá trị đầu tiên, dùng **seaborn.barplot** để biểu diễn biểu đồ cột với trục x là mã sản phẩm và trục y lượng được bán"
   ]
  },
  {
   "cell_type": "code",
   "execution_count": 18,
   "id": "370284bf",
   "metadata": {},
   "outputs": [
    {
     "data": {
      "image/png": "[encoded data removed]",
      "text/plain": [
       "<Figure size 1080x360 with 1 Axes>"
      ]
     },
     "metadata": {
      "needs_background": "light"
     },
     "output_type": "display_data"
    }
   ],
   "source": [
    "stock_sold =  stock_question_data[['StockCode']][stock_question_data['Quantity'] > 0]\n",
    "top_3_stock = stock_sold.StockCode.value_counts().sort_values(ascending=False).head(3)\n",
    "plt.figure(figsize=(15,5))\n",
    "sns.barplot(x=top_3_stock.index, y=top_3_stock.values)\n",
    "plt.ylabel(\"Number of sold\")\n",
    "plt.title(\"Top 3 stock best-seller\")\n",
    "plt.xlabel(\"Stockcode\")\n",
    "plt.show()"
   ]
  },
  {
   "cell_type": "markdown",
   "id": "f3f6e16c",
   "metadata": {},
   "source": [
    "Sau khi có kết quả 3 sản phẩm bán chạy nhất, mình có thể tăng thêm doanh thu từ các sản phẩm này bằng cách gắn nhãn **best-seller**. Bản thân em là người tiêu dùng thì luôn thích sản phẩm có nhãn này nhằm yên tâm hơn vì có nhiều người sử dụng."
   ]
  },
  {
   "cell_type": "markdown",
   "id": "b87131ca",
   "metadata": {},
   "source": [
    "#### Top 5 quốc gia có lượng giao dịch nhiều nhất"
   ]
  },
  {
   "cell_type": "markdown",
   "id": "c04a7305",
   "metadata": {},
   "source": [
    "Để xem 5 quốc gia nào có lượng giao dịch nhiều nhất, em sẽ đếm số lượng thành phố xuất hiện trong dữ liệu bằng phương thức <b>value_counts</b> sau đó sắp xếp dữ liệu vừa đếm được theo thứ tự giảm dần và chỉ lấy 5 giá trị đầu tiên. Dùng <b>seaborn.barplot</b> để biểu diễn biểu đồ cột cho tiện việc so sánh. Do công ty này có trụ sở tại Anh nên lượng giao dịch tại nước Anh rất lớn nếu giữ nguyên tỷ lệ rất khó quan sát nên em đã đưa về tỷ lệ theo <b>log</b> để có cái nhìn trực quan hơn. Em chọn <b>log</b> vì hàm số này nhạy cảm với những chêch lệch nhỏ, dễ phát hiện khi trực quan."
   ]
  },
  {
   "cell_type": "code",
   "execution_count": 19,
   "id": "17ab4391",
   "metadata": {},
   "outputs": [
    {
     "data": {
      "image/png": "[encoded data removed]",
      "text/plain": [
       "<Figure size 1080x360 with 1 Axes>"
      ]
     },
     "metadata": {
      "needs_background": "light"
     },
     "output_type": "display_data"
    }
   ],
   "source": [
    "top_5_transactions = stock_question_data.Country.value_counts().sort_values(ascending=False).head(5)\n",
    "plt.figure(figsize=(15,5))\n",
    "sns.barplot(x=top_5_transactions.index, y=top_5_transactions.values)\n",
    "plt.ylabel(\"Transactions counts\", fontsize=15)\n",
    "plt.title(\"Top 5 countries made transactions\", fontsize=15)\n",
    "plt.yscale(\"log\")\n",
    "plt.show()"
   ]
  },
  {
   "cell_type": "markdown",
   "id": "2633f34c",
   "metadata": {},
   "source": [
    "Đúng như em đã dự đoán thì <b>Anh</b> là quốc gia có lượng giao dịch lớn nhất, tiếp theo là <b>Đức, Pháp</b> và <b>Ireland</b>. Những nước ở phía sau thì lượng giao dịch chiếm tỉ lệ rất ít"
   ]
  },
  {
   "cell_type": "markdown",
   "id": "a0b4eb7e",
   "metadata": {},
   "source": [
    "### Câu hỏi 3: CRR (Customer Retention Rate - tỉ lệ duy trì khách hàng)\n",
    "Theo [vnpoint.vn](https://vnpoint.vn/bi-quyet-toi-uu-customer-retention-rate/),\n",
    "\n",
    "Customer Retention có thể hiểu là giữ chân khách hàng. Đây là một yếu tố rất quan trọng trong tất cả các doanh nghiệp bởi lượng khách hàng trung thành luôn là nguồn khách cần được duy trì nhất. Việc “giữ chân” được một khách hàng và để họ tiếp tục quay lại mua sản phẩm giúp doanh nghiệp tiết kiệm được rất nhiều chi phí. \n",
    "\n",
    "Customer Retention là yếu tố mà doanh nghiệp cần quan tâm hàng đầu.\n",
    "\n",
    "Cũng bởi tầm quan trọng ấy mà hầu hết các doanh nghiệp đều đặt việc chăm sóc khách hàng lên hàng đầu. Bên cạnh việc tìm kiếm khách hàng tiềm năng thì việc duy trì khách hàng cũ là điều không thể bỏ qua.\n",
    "\n",
    "Tỉ lệ duy trì khách hàng được tính theo công thức CRR = (CE – CN)/CS x 100%.\n",
    "\n",
    "Trong đó:\n",
    "- CE: số khách hàng ở cuối một giai đoạn nhất định.\n",
    "- CN: số khách hàng mới trong giai đoạn đó.\n",
    "- CS: số khách hàng ở đầu giai đoạn đó.\n",
    "\n",
    "Theo đó, CRR giúp các doanh nghiệp đưa ra được những chiến lược phù hợp để giữ chân khách hàng và phát triển doanh nghiệp kịp thời."
   ]
  },
  {
   "cell_type": "code",
   "execution_count": 21,
   "id": "a177768d",
   "metadata": {},
   "outputs": [
    {
     "data": {
      "text/html": [
       "<div>\n",
       "<style scoped>\n",
       "    .dataframe tbody tr th:only-of-type {\n",
       "        vertical-align: middle;\n",
       "    }\n",
       "\n",
       "    .dataframe tbody tr th {\n",
       "        vertical-align: top;\n",
       "    }\n",
       "\n",
       "    .dataframe thead th {\n",
       "        text-align: right;\n",
       "    }\n",
       "</style>\n",
       "<table border=\"1\" class=\"dataframe\">\n",
       "  <thead>\n",
       "    <tr style=\"text-align: right;\">\n",
       "      <th></th>\n",
       "      <th>InvoiceNo</th>\n",
       "      <th>StockCode</th>\n",
       "      <th>Quantity</th>\n",
       "      <th>InvoiceDate</th>\n",
       "      <th>UnitPrice</th>\n",
       "      <th>CustomerID</th>\n",
       "      <th>Country</th>\n",
       "    </tr>\n",
       "  </thead>\n",
       "  <tbody>\n",
       "    <tr>\n",
       "      <th>0</th>\n",
       "      <td>536365</td>\n",
       "      <td>85123A</td>\n",
       "      <td>6</td>\n",
       "      <td>2010-12-01 08:26:00</td>\n",
       "      <td>2.55</td>\n",
       "      <td>17850.0</td>\n",
       "      <td>United Kingdom</td>\n",
       "    </tr>\n",
       "    <tr>\n",
       "      <th>1</th>\n",
       "      <td>536365</td>\n",
       "      <td>71053</td>\n",
       "      <td>6</td>\n",
       "      <td>2010-12-01 08:26:00</td>\n",
       "      <td>3.39</td>\n",
       "      <td>17850.0</td>\n",
       "      <td>United Kingdom</td>\n",
       "    </tr>\n",
       "    <tr>\n",
       "      <th>2</th>\n",
       "      <td>536365</td>\n",
       "      <td>84406B</td>\n",
       "      <td>8</td>\n",
       "      <td>2010-12-01 08:26:00</td>\n",
       "      <td>2.75</td>\n",
       "      <td>17850.0</td>\n",
       "      <td>United Kingdom</td>\n",
       "    </tr>\n",
       "    <tr>\n",
       "      <th>3</th>\n",
       "      <td>536365</td>\n",
       "      <td>84029G</td>\n",
       "      <td>6</td>\n",
       "      <td>2010-12-01 08:26:00</td>\n",
       "      <td>3.39</td>\n",
       "      <td>17850.0</td>\n",
       "      <td>United Kingdom</td>\n",
       "    </tr>\n",
       "    <tr>\n",
       "      <th>4</th>\n",
       "      <td>536365</td>\n",
       "      <td>84029E</td>\n",
       "      <td>6</td>\n",
       "      <td>2010-12-01 08:26:00</td>\n",
       "      <td>3.39</td>\n",
       "      <td>17850.0</td>\n",
       "      <td>United Kingdom</td>\n",
       "    </tr>\n",
       "    <tr>\n",
       "      <th>5</th>\n",
       "      <td>536365</td>\n",
       "      <td>22752</td>\n",
       "      <td>2</td>\n",
       "      <td>2010-12-01 08:26:00</td>\n",
       "      <td>7.65</td>\n",
       "      <td>17850.0</td>\n",
       "      <td>United Kingdom</td>\n",
       "    </tr>\n",
       "    <tr>\n",
       "      <th>6</th>\n",
       "      <td>536365</td>\n",
       "      <td>21730</td>\n",
       "      <td>6</td>\n",
       "      <td>2010-12-01 08:26:00</td>\n",
       "      <td>4.25</td>\n",
       "      <td>17850.0</td>\n",
       "      <td>United Kingdom</td>\n",
       "    </tr>\n",
       "    <tr>\n",
       "      <th>7</th>\n",
       "      <td>536366</td>\n",
       "      <td>22633</td>\n",
       "      <td>6</td>\n",
       "      <td>2010-12-01 08:28:00</td>\n",
       "      <td>1.85</td>\n",
       "      <td>17850.0</td>\n",
       "      <td>United Kingdom</td>\n",
       "    </tr>\n",
       "    <tr>\n",
       "      <th>8</th>\n",
       "      <td>536366</td>\n",
       "      <td>22632</td>\n",
       "      <td>6</td>\n",
       "      <td>2010-12-01 08:28:00</td>\n",
       "      <td>1.85</td>\n",
       "      <td>17850.0</td>\n",
       "      <td>United Kingdom</td>\n",
       "    </tr>\n",
       "    <tr>\n",
       "      <th>9</th>\n",
       "      <td>536367</td>\n",
       "      <td>84879</td>\n",
       "      <td>32</td>\n",
       "      <td>2010-12-01 08:34:00</td>\n",
       "      <td>1.69</td>\n",
       "      <td>13047.0</td>\n",
       "      <td>United Kingdom</td>\n",
       "    </tr>\n",
       "  </tbody>\n",
       "</table>\n",
       "</div>"
      ],
      "text/plain": [
       "  InvoiceNo StockCode  Quantity         InvoiceDate  UnitPrice  CustomerID  \\\n",
       "0    536365    85123A         6 2010-12-01 08:26:00       2.55     17850.0   \n",
       "1    536365     71053         6 2010-12-01 08:26:00       3.39     17850.0   \n",
       "2    536365    84406B         8 2010-12-01 08:26:00       2.75     17850.0   \n",
       "3    536365    84029G         6 2010-12-01 08:26:00       3.39     17850.0   \n",
       "4    536365    84029E         6 2010-12-01 08:26:00       3.39     17850.0   \n",
       "5    536365     22752         2 2010-12-01 08:26:00       7.65     17850.0   \n",
       "6    536365     21730         6 2010-12-01 08:26:00       4.25     17850.0   \n",
       "7    536366     22633         6 2010-12-01 08:28:00       1.85     17850.0   \n",
       "8    536366     22632         6 2010-12-01 08:28:00       1.85     17850.0   \n",
       "9    536367     84879        32 2010-12-01 08:34:00       1.69     13047.0   \n",
       "\n",
       "          Country  \n",
       "0  United Kingdom  \n",
       "1  United Kingdom  \n",
       "2  United Kingdom  \n",
       "3  United Kingdom  \n",
       "4  United Kingdom  \n",
       "5  United Kingdom  \n",
       "6  United Kingdom  \n",
       "7  United Kingdom  \n",
       "8  United Kingdom  \n",
       "9  United Kingdom  "
      ]
     },
     "execution_count": 21,
     "metadata": {},
     "output_type": "execute_result"
    }
   ],
   "source": [
    "content.head(10)"
   ]
  },
  {
   "cell_type": "markdown",
   "id": "9057813e",
   "metadata": {},
   "source": [
    "Ta sẽ tính toán CRR theo trung bình của các khung thời gian từ 1 đến 12 tháng.\n",
    "\n",
    "Nhưng trước tiên, ta sẽ cần thêm 2 cột tháng và năm vào tập dữ liệu hiện có để thuận tiện cho việc phân tích."
   ]
  },
  {
   "cell_type": "code",
   "execution_count": 23,
   "id": "aba046de",
   "metadata": {},
   "outputs": [
    {
     "data": {
      "text/html": [
       "<div>\n",
       "<style scoped>\n",
       "    .dataframe tbody tr th:only-of-type {\n",
       "        vertical-align: middle;\n",
       "    }\n",
       "\n",
       "    .dataframe tbody tr th {\n",
       "        vertical-align: top;\n",
       "    }\n",
       "\n",
       "    .dataframe thead th {\n",
       "        text-align: right;\n",
       "    }\n",
       "</style>\n",
       "<table border=\"1\" class=\"dataframe\">\n",
       "  <thead>\n",
       "    <tr style=\"text-align: right;\">\n",
       "      <th></th>\n",
       "      <th>InvoiceNo</th>\n",
       "      <th>StockCode</th>\n",
       "      <th>Quantity</th>\n",
       "      <th>InvoiceDate</th>\n",
       "      <th>UnitPrice</th>\n",
       "      <th>CustomerID</th>\n",
       "      <th>Country</th>\n",
       "      <th>InvoiceMonth</th>\n",
       "      <th>InvoiceYear</th>\n",
       "    </tr>\n",
       "  </thead>\n",
       "  <tbody>\n",
       "    <tr>\n",
       "      <th>0</th>\n",
       "      <td>536365</td>\n",
       "      <td>85123A</td>\n",
       "      <td>6</td>\n",
       "      <td>2010-12-01 08:26:00</td>\n",
       "      <td>2.55</td>\n",
       "      <td>17850.0</td>\n",
       "      <td>United Kingdom</td>\n",
       "      <td>12</td>\n",
       "      <td>2010</td>\n",
       "    </tr>\n",
       "    <tr>\n",
       "      <th>1</th>\n",
       "      <td>536365</td>\n",
       "      <td>71053</td>\n",
       "      <td>6</td>\n",
       "      <td>2010-12-01 08:26:00</td>\n",
       "      <td>3.39</td>\n",
       "      <td>17850.0</td>\n",
       "      <td>United Kingdom</td>\n",
       "      <td>12</td>\n",
       "      <td>2010</td>\n",
       "    </tr>\n",
       "    <tr>\n",
       "      <th>2</th>\n",
       "      <td>536365</td>\n",
       "      <td>84406B</td>\n",
       "      <td>8</td>\n",
       "      <td>2010-12-01 08:26:00</td>\n",
       "      <td>2.75</td>\n",
       "      <td>17850.0</td>\n",
       "      <td>United Kingdom</td>\n",
       "      <td>12</td>\n",
       "      <td>2010</td>\n",
       "    </tr>\n",
       "    <tr>\n",
       "      <th>3</th>\n",
       "      <td>536365</td>\n",
       "      <td>84029G</td>\n",
       "      <td>6</td>\n",
       "      <td>2010-12-01 08:26:00</td>\n",
       "      <td>3.39</td>\n",
       "      <td>17850.0</td>\n",
       "      <td>United Kingdom</td>\n",
       "      <td>12</td>\n",
       "      <td>2010</td>\n",
       "    </tr>\n",
       "    <tr>\n",
       "      <th>4</th>\n",
       "      <td>536365</td>\n",
       "      <td>84029E</td>\n",
       "      <td>6</td>\n",
       "      <td>2010-12-01 08:26:00</td>\n",
       "      <td>3.39</td>\n",
       "      <td>17850.0</td>\n",
       "      <td>United Kingdom</td>\n",
       "      <td>12</td>\n",
       "      <td>2010</td>\n",
       "    </tr>\n",
       "  </tbody>\n",
       "</table>\n",
       "</div>"
      ],
      "text/plain": [
       "  InvoiceNo StockCode  Quantity         InvoiceDate  UnitPrice  CustomerID  \\\n",
       "0    536365    85123A         6 2010-12-01 08:26:00       2.55     17850.0   \n",
       "1    536365     71053         6 2010-12-01 08:26:00       3.39     17850.0   \n",
       "2    536365    84406B         8 2010-12-01 08:26:00       2.75     17850.0   \n",
       "3    536365    84029G         6 2010-12-01 08:26:00       3.39     17850.0   \n",
       "4    536365    84029E         6 2010-12-01 08:26:00       3.39     17850.0   \n",
       "\n",
       "          Country  InvoiceMonth  InvoiceYear  \n",
       "0  United Kingdom            12         2010  \n",
       "1  United Kingdom            12         2010  \n",
       "2  United Kingdom            12         2010  \n",
       "3  United Kingdom            12         2010  \n",
       "4  United Kingdom            12         2010  "
      ]
     },
     "execution_count": 23,
     "metadata": {},
     "output_type": "execute_result"
    }
   ],
   "source": [
    "new_content = content.copy()\n",
    "new_content['InvoiceMonth'] = new_content['InvoiceDate'].dt.month\n",
    "new_content['InvoiceYear'] = new_content['InvoiceDate'].dt.year\n",
    "new_content.head()"
   ]
  },
  {
   "cell_type": "code",
   "execution_count": 77,
   "id": "a6eda9d1",
   "metadata": {},
   "outputs": [
    {
     "data": {
      "text/plain": [
       "[27.503,\n",
       " 43.584,\n",
       " 43.746,\n",
       " 44.811,\n",
       " 40.426,\n",
       " 45.956,\n",
       " 38.04,\n",
       " 35.511,\n",
       " 35.511,\n",
       " 39.515,\n",
       " 37.408,\n",
       " 50.053]"
      ]
     },
     "execution_count": 77,
     "metadata": {},
     "output_type": "execute_result"
    }
   ],
   "source": [
    "start_month = new_content['InvoiceDate'].min().month\n",
    "end_month = new_content['InvoiceDate'].max().month\n",
    "\n",
    "start_year = new_content['InvoiceDate'].min().year\n",
    "end_year = new_content['InvoiceDate'].max().year\n",
    "\n",
    "CRR_range = list(range(1, 13))\n",
    "CRR = []\n",
    "\n",
    "# print(end_month, end_year)\n",
    "\n",
    "for r in CRR_range:\n",
    "    m = start_month\n",
    "    y = start_year\n",
    "    cnt = 0\n",
    "    val = 0\n",
    "    while m <= end_month and y <= end_year:\n",
    "        to_m = (m + r - 1)%12\n",
    "        to_y = y\n",
    "        if to_m == 0: to_m = 12\n",
    "        if to_m <= m: to_y+=1 \n",
    "        \n",
    "        if to_y > end_year or (to_y == end_year and to_m > end_month): \n",
    "            break\n",
    "        \n",
    "        CE = new_content[(new_content['InvoiceMonth']==to_m) & \n",
    "                             (new_content['InvoiceYear']==to_y)]['CustomerID'].drop_duplicates()\n",
    "        CS = new_content[(new_content['InvoiceMonth']==m) & \n",
    "                             (new_content['InvoiceYear']==y)]['CustomerID'].drop_duplicates()\n",
    "        CN = CE[~CE.isin(CS)]\n",
    "        \n",
    "        CE = len(CE)\n",
    "        CS = len(CS)\n",
    "        CN = len(CN)\n",
    "        \n",
    "        val += (CE-CN)/CS * 100\n",
    "        cnt += 1\n",
    "        \n",
    "        m = to_m + 1\n",
    "        if m == 13: m = 1\n",
    "        if m == 1: y+=1\n",
    "        else: y = to_y\n",
    "    \n",
    "    CRR.append(round(val/cnt, 3))       \n",
    "CRR"
   ]
  },
  {
   "cell_type": "code",
   "execution_count": 91,
   "id": "3fa4eafb",
   "metadata": {},
   "outputs": [
    {
     "data": {
      "image/png": "[encoded data removed]",
      "text/plain": [
       "<Figure size 1080x360 with 1 Axes>"
      ]
     },
     "metadata": {
      "needs_background": "light"
     },
     "output_type": "display_data"
    }
   ],
   "source": [
    "plt.figure(figsize=(15,5))\n",
    "plt.bar(CRR_range, CRR, )\n",
    "plt.xlabel(\"Timeframe (month)\", fontsize=15)\n",
    "plt.ylabel(\"CRR (%)\", fontsize=15)\n",
    "plt.title(\"CRR of different timeframes\", fontsize=15)\n",
    "plt.xticks(CRR_range)\n",
    "plt.show()"
   ]
  },
  {
   "cell_type": "markdown",
   "id": "01e5436a",
   "metadata": {},
   "source": [
    "Như vậy, ta có thể thấy, CRR của doanh nghiệp giao động trong khoảng 35-45% trong đa số các khung thời gian, đặc biệt đối với khung thời gian 1 năm thì CRR đạt khoảng 50%, tuy nhiên con số ở khung 1 tháng lại nằm ở mức khá thấp so với mặt bằng chung (dưới 30%)."
   ]
  },
  {
   "cell_type": "markdown",
   "id": "e181a2a7",
   "metadata": {},
   "source": [
    "### Câu hỏi 4: Xếp hạng khách hàng\n",
    "\n",
    "Doanh nghiệp đang có dự định tổ chức hệ thống khách hàng nhằm thiết kế các chương trình ưu đãi cũng như chăm sóc khách hàng được hiệu quả hơn. Doanh nghiệp muốn chia tập khách hàng theo hành vi mua hàng (tổng số tiền đặt hàng, tổng số tiền trả hàng, tổng số lượng đơn hàng đã đặt), khách hàng sẽ đượp xếp hạng dựa trên credits được tính như sau:\n",
    "- **10 bảng Anh = 1 credit**\n",
    "- **Member**: tích lũy từ **1 credit**\n",
    "- **Silver member**: tích lũy từ **50 credits**\n",
    "- **Gold member**: tích lũy từ **100 credits**\n",
    "- **Platinum member**: tích lũy từ **1.000 credits**\n",
    "- **Diamond member**: tích lũy từ **10.000 credits**"
   ]
  },
  {
   "cell_type": "markdown",
   "id": "449d4912",
   "metadata": {},
   "source": [
    "## Tổng kết"
   ]
  },
  {
   "cell_type": "markdown",
   "id": "b94694f0",
   "metadata": {},
   "source": [
    "### Thành viên 1: Nguyễn Hữu Đạt"
   ]
  },
  {
   "cell_type": "markdown",
   "id": "949dd15d",
   "metadata": {},
   "source": [
    "### Thành viên 2: Nguyễn Minh Trí"
   ]
  },
  {
   "cell_type": "markdown",
   "id": "67e2efc7",
   "metadata": {},
   "source": [
    "- Những khó khăn gặp phải: Đưa ra câu hỏi về tập dữ liệu để có thể khám phá ra giá trị của tập dữ liệu. Cần phải có kiến thức chuyên ngành để để hiểu hơn và đưa ra nh\n",
    "- Những kiến thức học được: Thực hành được quy trình của Khoa Học Dữ liệu, làm việc nhóm để giải quyết vấn đề. Sử dụng github để cùng nhau làm việc."
   ]
  },
  {
   "cell_type": "markdown",
   "id": "a3cd3977",
   "metadata": {},
   "source": [
    "### Sẽ làm gì nếu có thêm thời gian"
   ]
  },
  {
   "cell_type": "markdown",
   "id": "7317ca44",
   "metadata": {},
   "source": [
    "## Nguồn tham khảo"
   ]
  },
  {
   "cell_type": "markdown",
   "id": "f4a672aa",
   "metadata": {},
   "source": [
    "https://www.kaggle.com/admond1994/e-commerce-data-eda#Discover-patterns-for-Number-of-Orders"
   ]
  }
 ],
 "metadata": {
  "kernelspec": {
   "display_name": "Python 3 (ipykernel)",
   "language": "python",
   "name": "python3"
  },
  "language_info": {
   "codemirror_mode": {
    "name": "ipython",
    "version": 3
   },
   "file_extension": ".py",
   "mimetype": "text/x-python",
   "name": "python",
   "nbconvert_exporter": "python",
   "pygments_lexer": "ipython3",
   "version": "3.8.8"
  },
  "toc": {
   "base_numbering": 1,
   "nav_menu": {},
   "number_sections": true,
   "sideBar": true,
   "skip_h1_title": true,
   "title_cell": "Table of Contents",
   "title_sidebar": "Contents",
   "toc_cell": false,
   "toc_position": {
    "height": "calc(100% - 180px)",
    "left": "10px",
    "top": "150px",
    "width": "303.837px"
   },
   "toc_section_display": true,
   "toc_window_display": true
  }
 },
 "nbformat": 4,
 "nbformat_minor": 5
}
